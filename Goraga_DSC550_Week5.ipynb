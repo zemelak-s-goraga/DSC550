{
 "cells": [
  {
   "cell_type": "markdown",
   "id": "a5028f23",
   "metadata": {},
   "source": [
    "## Data Mining (DSC550-T301_2245_1)\n",
    "\n",
    "Assignement Week 5;\n",
    "\n",
    "Author: Zemelak Goraga;\n",
    "\n",
    "Date: 04/13/2024"
   ]
  },
  {
   "cell_type": "code",
   "execution_count": 33,
   "id": "d0a92ecc",
   "metadata": {},
   "outputs": [],
   "source": [
    "pip install pandas textblob nltk scikit-learn"
   ]
  },
  {
   "cell_type": "code",
   "execution_count": 2,
   "id": "08e35d1a",
   "metadata": {},
   "outputs": [],
   "source": [
    "# Importing required libraries\n",
    "import pandas as pd\n",
    "import zipfile\n",
    "from sklearn.model_selection import train_test_split\n",
    "from sklearn.feature_extraction.text import TfidfVectorizer\n",
    "from sklearn.linear_model import LogisticRegression\n",
    "from sklearn.metrics import accuracy_score, confusion_matrix, classification_report, roc_curve\n",
    "import matplotlib.pyplot as plt\n",
    "import warnings\n",
    "warnings.filterwarnings(\"ignore\")"
   ]
  },
  {
   "cell_type": "code",
   "execution_count": 7,
   "id": "81785dae",
   "metadata": {},
   "outputs": [
    {
     "name": "stdout",
     "output_type": "stream",
     "text": [
      "       id  sentiment                                             review\n",
      "0  5814_8          1  With all this stuff going down at the moment w...\n",
      "1  2381_9          1  \\The Classic War of the Worlds\\\" by Timothy Hi...\n",
      "2  7759_3          0  The film starts with a manager (Nicholas Bell)...\n",
      "3  3630_4          0  It must be assumed that those who praised this...\n",
      "4  9495_8          1  Superbly trashy and wondrously unpretentious 8...\n"
     ]
    }
   ],
   "source": [
    "# Load the dataset into a DataFrame, skipping lines with errors\n",
    "train_data = pd.read_csv('labeledTrainData.tsv', error_bad_lines=False, sep='\\t')\n",
    "\n",
    "# Display the first few rows of the DataFrame\n",
    "print(train_data.head())"
   ]
  },
  {
   "cell_type": "code",
   "execution_count": 9,
   "id": "b87b9afa",
   "metadata": {},
   "outputs": [
    {
     "name": "stdout",
     "output_type": "stream",
     "text": [
      "       id  sentiment                                             review\n",
      "0  5814_8          1  with all this stuff going down at the moment w...\n",
      "1  2381_9          1  \\the classic war of the worlds\\\" by timothy hi...\n",
      "2  7759_3          0  the film starts with a manager (nicholas bell)...\n",
      "3  3630_4          0  it must be assumed that those who praised this...\n",
      "4  9495_8          1  superbly trashy and wondrously unpretentious 8...\n"
     ]
    }
   ],
   "source": [
    "# Pre-processing\n",
    "# Convert all text to lowercase letters\n",
    "train_data['review'] = train_data['review'].apply(lambda x: x.lower())\n",
    "print(train_data.head())"
   ]
  },
  {
   "cell_type": "code",
   "execution_count": 12,
   "id": "aad1226a",
   "metadata": {},
   "outputs": [
    {
     "name": "stdout",
     "output_type": "stream",
     "text": [
      "       id  sentiment                                             review\n",
      "0  5814_8          1  with all this stuff going down at the moment w...\n",
      "1  2381_9          1  the classic war of the worlds by timothy hines...\n",
      "2  7759_3          0  the film starts with a manager nicholas bell g...\n",
      "3  3630_4          0  it must be assumed that those who praised this...\n",
      "4  9495_8          1  superbly trashy and wondrously unpretentious 8...\n"
     ]
    }
   ],
   "source": [
    "# Remove punctuation and special characters from the text\n",
    "\n",
    "import string\n",
    "\n",
    "train_data['review'] = train_data['review'].apply(lambda x: x.translate(str.maketrans('', '', string.punctuation)))\n",
    "print(train_data.head())"
   ]
  },
  {
   "cell_type": "code",
   "execution_count": 15,
   "id": "3ecced42",
   "metadata": {},
   "outputs": [
    {
     "name": "stderr",
     "output_type": "stream",
     "text": [
      "[nltk_data] Downloading package stopwords to\n",
      "[nltk_data]     C:\\Users\\MariaStella\\AppData\\Roaming\\nltk_data...\n",
      "[nltk_data]   Package stopwords is already up-to-date!\n",
      "[nltk_data] Downloading package punkt to\n",
      "[nltk_data]     C:\\Users\\MariaStella\\AppData\\Roaming\\nltk_data...\n",
      "[nltk_data]   Package punkt is already up-to-date!\n"
     ]
    },
    {
     "name": "stdout",
     "output_type": "stream",
     "text": [
      "       id  sentiment                                             review\n",
      "0  5814_8          1  stuff going moment mj ive started listening mu...\n",
      "1  2381_9          1  classic war worlds timothy hines entertaining ...\n",
      "2  7759_3          0  film starts manager nicholas bell giving welco...\n",
      "3  3630_4          0  must assumed praised film greatest filmed oper...\n",
      "4  9495_8          1  superbly trashy wondrously unpretentious 80s e...\n"
     ]
    }
   ],
   "source": [
    "# Remove stop words\n",
    "\n",
    "import nltk\n",
    "from nltk.corpus import stopwords\n",
    "from nltk.tokenize import word_tokenize\n",
    "\n",
    "# Download the stopwords\n",
    "nltk.download('stopwords')\n",
    "nltk.download('punkt')\n",
    "\n",
    "stop_words = set(stopwords.words('english'))\n",
    "train_data['review'] = train_data['review'].apply(lambda x: ' '.join([word for word in word_tokenize(x) if word not in stop_words]))\n",
    "print(train_data.head())"
   ]
  },
  {
   "cell_type": "code",
   "execution_count": 18,
   "id": "7efb955e",
   "metadata": {},
   "outputs": [
    {
     "name": "stderr",
     "output_type": "stream",
     "text": [
      "[nltk_data] Downloading package punkt to\n",
      "[nltk_data]     C:\\Users\\MariaStella\\AppData\\Roaming\\nltk_data...\n",
      "[nltk_data]   Package punkt is already up-to-date!\n"
     ]
    },
    {
     "name": "stdout",
     "output_type": "stream",
     "text": [
      "       id  sentiment                                             review\n",
      "0  5814_8          1  stuff go moment mj ive start listen music watc...\n",
      "1  2381_9          1  classic war world timothi hine entertain film ...\n",
      "2  7759_3          0  film start manag nichola bell give welcom inve...\n",
      "3  3630_4          0  must assum prai film greatest film opera ever ...\n",
      "4  9495_8          1  superbl trashi wondrou unpretenti 80 exploit h...\n"
     ]
    }
   ],
   "source": [
    "# Apply NLTK’s PorterStemmer\n",
    "\n",
    "#stemmer = PorterStemmer()\n",
    "#train_data['review'] = train_data['review'].apply(lambda x: ' '.join([stemmer.stem(word) for word in word_tokenize(x)]))\n",
    "\n",
    "\n",
    "from nltk.stem import PorterStemmer\n",
    "import nltk\n",
    "from nltk.tokenize import word_tokenize\n",
    "\n",
    "# Download NLTK resources if not already downloaded\n",
    "nltk.download('punkt')\n",
    "\n",
    "\n",
    "stemmer = PorterStemmer()\n",
    "train_data['review'] = train_data['review'].apply(lambda x: ' '.join([stemmer.stem(word) for word in word_tokenize(x)]))\n",
    "print(train_data.head())"
   ]
  },
  {
   "cell_type": "code",
   "execution_count": 19,
   "id": "ab6d4600",
   "metadata": {},
   "outputs": [],
   "source": [
    "# Split the data into training and test set\n",
    "X_train, X_test, y_train, y_test = train_test_split(train_data['review'], train_data['sentiment'], test_size=0.2, random_state=42)"
   ]
  },
  {
   "cell_type": "code",
   "execution_count": 34,
   "id": "e593649c",
   "metadata": {},
   "outputs": [
    {
     "data": {
      "text/plain": [
       "<20000x80102 sparse matrix of type '<class 'numpy.float64'>'\n",
       "\twith 1946807 stored elements in Compressed Sparse Row format>"
      ]
     },
     "execution_count": 34,
     "metadata": {},
     "output_type": "execute_result"
    }
   ],
   "source": [
    "# Fit and apply the tf-idf vectorization to the training set\n",
    "tfidf_vectorizer = TfidfVectorizer()\n",
    "X_train_tfidf = tfidf_vectorizer.fit_transform(X_train)\n",
    "X_train_tfidf"
   ]
  },
  {
   "cell_type": "code",
   "execution_count": 35,
   "id": "2c80d0b0",
   "metadata": {},
   "outputs": [
    {
     "data": {
      "text/plain": [
       "<5000x80102 sparse matrix of type '<class 'numpy.float64'>'\n",
       "\twith 479180 stored elements in Compressed Sparse Row format>"
      ]
     },
     "execution_count": 35,
     "metadata": {},
     "output_type": "execute_result"
    }
   ],
   "source": [
    "#  Apply but DO NOT FIT the tf-idf vectorization to the test set (Why?)\n",
    "X_test_tfidf = tfidf_vectorizer.transform(X_test)\n",
    "X_test_tfidf"
   ]
  },
  {
   "cell_type": "markdown",
   "id": "c1e50dc8",
   "metadata": {},
   "source": [
    "Answer: Applying TF-IDF vectorization to the test set without fitting prevents data leakage, ensuring independence and unbiased evaluation. Fitting solely to the training set maintains consistency with real-world deployment, where models predict on unseen data. This approach preserves evaluation integrity and reflects generalization ability accurately."
   ]
  },
  {
   "cell_type": "code",
   "execution_count": 37,
   "id": "1336dbf1",
   "metadata": {},
   "outputs": [
    {
     "data": {
      "text/html": [
       "<style>#sk-container-id-3 {color: black;}#sk-container-id-3 pre{padding: 0;}#sk-container-id-3 div.sk-toggleable {background-color: white;}#sk-container-id-3 label.sk-toggleable__label {cursor: pointer;display: block;width: 100%;margin-bottom: 0;padding: 0.3em;box-sizing: border-box;text-align: center;}#sk-container-id-3 label.sk-toggleable__label-arrow:before {content: \"▸\";float: left;margin-right: 0.25em;color: #696969;}#sk-container-id-3 label.sk-toggleable__label-arrow:hover:before {color: black;}#sk-container-id-3 div.sk-estimator:hover label.sk-toggleable__label-arrow:before {color: black;}#sk-container-id-3 div.sk-toggleable__content {max-height: 0;max-width: 0;overflow: hidden;text-align: left;background-color: #f0f8ff;}#sk-container-id-3 div.sk-toggleable__content pre {margin: 0.2em;color: black;border-radius: 0.25em;background-color: #f0f8ff;}#sk-container-id-3 input.sk-toggleable__control:checked~div.sk-toggleable__content {max-height: 200px;max-width: 100%;overflow: auto;}#sk-container-id-3 input.sk-toggleable__control:checked~label.sk-toggleable__label-arrow:before {content: \"▾\";}#sk-container-id-3 div.sk-estimator input.sk-toggleable__control:checked~label.sk-toggleable__label {background-color: #d4ebff;}#sk-container-id-3 div.sk-label input.sk-toggleable__control:checked~label.sk-toggleable__label {background-color: #d4ebff;}#sk-container-id-3 input.sk-hidden--visually {border: 0;clip: rect(1px 1px 1px 1px);clip: rect(1px, 1px, 1px, 1px);height: 1px;margin: -1px;overflow: hidden;padding: 0;position: absolute;width: 1px;}#sk-container-id-3 div.sk-estimator {font-family: monospace;background-color: #f0f8ff;border: 1px dotted black;border-radius: 0.25em;box-sizing: border-box;margin-bottom: 0.5em;}#sk-container-id-3 div.sk-estimator:hover {background-color: #d4ebff;}#sk-container-id-3 div.sk-parallel-item::after {content: \"\";width: 100%;border-bottom: 1px solid gray;flex-grow: 1;}#sk-container-id-3 div.sk-label:hover label.sk-toggleable__label {background-color: #d4ebff;}#sk-container-id-3 div.sk-serial::before {content: \"\";position: absolute;border-left: 1px solid gray;box-sizing: border-box;top: 0;bottom: 0;left: 50%;z-index: 0;}#sk-container-id-3 div.sk-serial {display: flex;flex-direction: column;align-items: center;background-color: white;padding-right: 0.2em;padding-left: 0.2em;position: relative;}#sk-container-id-3 div.sk-item {position: relative;z-index: 1;}#sk-container-id-3 div.sk-parallel {display: flex;align-items: stretch;justify-content: center;background-color: white;position: relative;}#sk-container-id-3 div.sk-item::before, #sk-container-id-3 div.sk-parallel-item::before {content: \"\";position: absolute;border-left: 1px solid gray;box-sizing: border-box;top: 0;bottom: 0;left: 50%;z-index: -1;}#sk-container-id-3 div.sk-parallel-item {display: flex;flex-direction: column;z-index: 1;position: relative;background-color: white;}#sk-container-id-3 div.sk-parallel-item:first-child::after {align-self: flex-end;width: 50%;}#sk-container-id-3 div.sk-parallel-item:last-child::after {align-self: flex-start;width: 50%;}#sk-container-id-3 div.sk-parallel-item:only-child::after {width: 0;}#sk-container-id-3 div.sk-dashed-wrapped {border: 1px dashed gray;margin: 0 0.4em 0.5em 0.4em;box-sizing: border-box;padding-bottom: 0.4em;background-color: white;}#sk-container-id-3 div.sk-label label {font-family: monospace;font-weight: bold;display: inline-block;line-height: 1.2em;}#sk-container-id-3 div.sk-label-container {text-align: center;}#sk-container-id-3 div.sk-container {/* jupyter's `normalize.less` sets `[hidden] { display: none; }` but bootstrap.min.css set `[hidden] { display: none !important; }` so we also need the `!important` here to be able to override the default hidden behavior on the sphinx rendered scikit-learn.org. See: https://github.com/scikit-learn/scikit-learn/issues/21755 */display: inline-block !important;position: relative;}#sk-container-id-3 div.sk-text-repr-fallback {display: none;}</style><div id=\"sk-container-id-3\" class=\"sk-top-container\"><div class=\"sk-text-repr-fallback\"><pre>LogisticRegression()</pre><b>In a Jupyter environment, please rerun this cell to show the HTML representation or trust the notebook. <br />On GitHub, the HTML representation is unable to render, please try loading this page with nbviewer.org.</b></div><div class=\"sk-container\" hidden><div class=\"sk-item\"><div class=\"sk-estimator sk-toggleable\"><input class=\"sk-toggleable__control sk-hidden--visually\" id=\"sk-estimator-id-3\" type=\"checkbox\" checked><label for=\"sk-estimator-id-3\" class=\"sk-toggleable__label sk-toggleable__label-arrow\">LogisticRegression</label><div class=\"sk-toggleable__content\"><pre>LogisticRegression()</pre></div></div></div></div></div>"
      ],
      "text/plain": [
       "LogisticRegression()"
      ]
     },
     "execution_count": 37,
     "metadata": {},
     "output_type": "execute_result"
    }
   ],
   "source": [
    "# Train a logistic regression using the training data\n",
    "logistic_regression = LogisticRegression()\n",
    "logistic_regression.fit(X_train_tfidf, y_train)"
   ]
  },
  {
   "cell_type": "code",
   "execution_count": 23,
   "id": "c834619c",
   "metadata": {},
   "outputs": [
    {
     "name": "stdout",
     "output_type": "stream",
     "text": [
      "Accuracy on test set: 0.8866\n"
     ]
    }
   ],
   "source": [
    "# Model accuracy on test set\n",
    "y_pred = logistic_regression.predict(X_test_tfidf)\n",
    "accuracy = accuracy_score(y_test, y_pred)\n",
    "print(\"Accuracy on test set:\", accuracy)"
   ]
  },
  {
   "cell_type": "code",
   "execution_count": 24,
   "id": "35d91936",
   "metadata": {},
   "outputs": [
    {
     "name": "stdout",
     "output_type": "stream",
     "text": [
      "Confusion Matrix:\n",
      "[[2159  322]\n",
      " [ 245 2274]]\n"
     ]
    }
   ],
   "source": [
    "# Create a confusion matrix for the test set predictions\n",
    "conf_matrix = confusion_matrix(y_test, y_pred)\n",
    "print(\"Confusion Matrix:\")\n",
    "print(conf_matrix)"
   ]
  },
  {
   "cell_type": "code",
   "execution_count": 25,
   "id": "f96c6b8a",
   "metadata": {},
   "outputs": [
    {
     "name": "stdout",
     "output_type": "stream",
     "text": [
      "Classification Report:\n",
      "              precision    recall  f1-score   support\n",
      "\n",
      "           0       0.90      0.87      0.88      2481\n",
      "           1       0.88      0.90      0.89      2519\n",
      "\n",
      "    accuracy                           0.89      5000\n",
      "   macro avg       0.89      0.89      0.89      5000\n",
      "weighted avg       0.89      0.89      0.89      5000\n",
      "\n"
     ]
    }
   ],
   "source": [
    "# Get precision, recall, and F1-score for the test set predictions\n",
    "classification_rep = classification_report(y_test, y_pred)\n",
    "print(\"Classification Report:\")\n",
    "print(classification_rep)"
   ]
  },
  {
   "cell_type": "code",
   "execution_count": 26,
   "id": "ee268d68",
   "metadata": {},
   "outputs": [
    {
     "data": {
      "image/png": "[encoded data removed]",
      "text/plain": [
       "<Figure size 640x480 with 1 Axes>"
      ]
     },
     "metadata": {},
     "output_type": "display_data"
    }
   ],
   "source": [
    "# Create a ROC curve for the test set\n",
    "fpr, tpr, thresholds = roc_curve(y_test, logistic_regression.predict_proba(X_test_tfidf)[:,1])\n",
    "plt.plot(fpr, tpr)\n",
    "plt.xlabel('False Positive Rate')\n",
    "plt.ylabel('True Positive Rate')\n",
    "plt.title('ROC Curve')\n",
    "plt.show()"
   ]
  },
  {
   "cell_type": "code",
   "execution_count": 38,
   "id": "55263518",
   "metadata": {},
   "outputs": [
    {
     "name": "stdout",
     "output_type": "stream",
     "text": [
      "     False Positive Rate  True Positive Rate  Thresholds\n",
      "0               0.000000            0.000000         inf\n",
      "1               0.000000            0.000397    0.998381\n",
      "2               0.000000            0.108773    0.946339\n",
      "3               0.000403            0.108773    0.946296\n",
      "4               0.000403            0.164351    0.927748\n",
      "..                   ...                 ...         ...\n",
      "833             0.933091            0.999206    0.018741\n",
      "834             0.933091            0.999603    0.018690\n",
      "835             0.945183            0.999603    0.015397\n",
      "836             0.945183            1.000000    0.015358\n",
      "837             1.000000            1.000000    0.000259\n",
      "\n",
      "[838 rows x 3 columns]\n"
     ]
    }
   ],
   "source": [
    "# print visualization results in table format\n",
    "\n",
    "import pandas as pd\n",
    "from sklearn.metrics import roc_curve\n",
    "\n",
    "# Calculate ROC curve values\n",
    "fpr, tpr, thresholds = roc_curve(y_test, logistic_regression.predict_proba(X_test_tfidf)[:,1])\n",
    "\n",
    "# Create a DataFrame to store the results\n",
    "roc_df = pd.DataFrame({'False Positive Rate': fpr, 'True Positive Rate': tpr, 'Thresholds': thresholds})\n",
    "\n",
    "# Display the DataFrame\n",
    "print(roc_df)\n"
   ]
  },
  {
   "cell_type": "code",
   "execution_count": 27,
   "id": "ad9bc754",
   "metadata": {},
   "outputs": [],
   "source": [
    "# Pick another classification model (Random Forest) and repeat steps (5) – (9).\n",
    "\n",
    "from sklearn.ensemble import RandomForestClassifier"
   ]
  },
  {
   "cell_type": "code",
   "execution_count": 28,
   "id": "15a66243",
   "metadata": {},
   "outputs": [
    {
     "data": {
      "text/html": [
       "<style>#sk-container-id-2 {color: black;}#sk-container-id-2 pre{padding: 0;}#sk-container-id-2 div.sk-toggleable {background-color: white;}#sk-container-id-2 label.sk-toggleable__label {cursor: pointer;display: block;width: 100%;margin-bottom: 0;padding: 0.3em;box-sizing: border-box;text-align: center;}#sk-container-id-2 label.sk-toggleable__label-arrow:before {content: \"▸\";float: left;margin-right: 0.25em;color: #696969;}#sk-container-id-2 label.sk-toggleable__label-arrow:hover:before {color: black;}#sk-container-id-2 div.sk-estimator:hover label.sk-toggleable__label-arrow:before {color: black;}#sk-container-id-2 div.sk-toggleable__content {max-height: 0;max-width: 0;overflow: hidden;text-align: left;background-color: #f0f8ff;}#sk-container-id-2 div.sk-toggleable__content pre {margin: 0.2em;color: black;border-radius: 0.25em;background-color: #f0f8ff;}#sk-container-id-2 input.sk-toggleable__control:checked~div.sk-toggleable__content {max-height: 200px;max-width: 100%;overflow: auto;}#sk-container-id-2 input.sk-toggleable__control:checked~label.sk-toggleable__label-arrow:before {content: \"▾\";}#sk-container-id-2 div.sk-estimator input.sk-toggleable__control:checked~label.sk-toggleable__label {background-color: #d4ebff;}#sk-container-id-2 div.sk-label input.sk-toggleable__control:checked~label.sk-toggleable__label {background-color: #d4ebff;}#sk-container-id-2 input.sk-hidden--visually {border: 0;clip: rect(1px 1px 1px 1px);clip: rect(1px, 1px, 1px, 1px);height: 1px;margin: -1px;overflow: hidden;padding: 0;position: absolute;width: 1px;}#sk-container-id-2 div.sk-estimator {font-family: monospace;background-color: #f0f8ff;border: 1px dotted black;border-radius: 0.25em;box-sizing: border-box;margin-bottom: 0.5em;}#sk-container-id-2 div.sk-estimator:hover {background-color: #d4ebff;}#sk-container-id-2 div.sk-parallel-item::after {content: \"\";width: 100%;border-bottom: 1px solid gray;flex-grow: 1;}#sk-container-id-2 div.sk-label:hover label.sk-toggleable__label {background-color: #d4ebff;}#sk-container-id-2 div.sk-serial::before {content: \"\";position: absolute;border-left: 1px solid gray;box-sizing: border-box;top: 0;bottom: 0;left: 50%;z-index: 0;}#sk-container-id-2 div.sk-serial {display: flex;flex-direction: column;align-items: center;background-color: white;padding-right: 0.2em;padding-left: 0.2em;position: relative;}#sk-container-id-2 div.sk-item {position: relative;z-index: 1;}#sk-container-id-2 div.sk-parallel {display: flex;align-items: stretch;justify-content: center;background-color: white;position: relative;}#sk-container-id-2 div.sk-item::before, #sk-container-id-2 div.sk-parallel-item::before {content: \"\";position: absolute;border-left: 1px solid gray;box-sizing: border-box;top: 0;bottom: 0;left: 50%;z-index: -1;}#sk-container-id-2 div.sk-parallel-item {display: flex;flex-direction: column;z-index: 1;position: relative;background-color: white;}#sk-container-id-2 div.sk-parallel-item:first-child::after {align-self: flex-end;width: 50%;}#sk-container-id-2 div.sk-parallel-item:last-child::after {align-self: flex-start;width: 50%;}#sk-container-id-2 div.sk-parallel-item:only-child::after {width: 0;}#sk-container-id-2 div.sk-dashed-wrapped {border: 1px dashed gray;margin: 0 0.4em 0.5em 0.4em;box-sizing: border-box;padding-bottom: 0.4em;background-color: white;}#sk-container-id-2 div.sk-label label {font-family: monospace;font-weight: bold;display: inline-block;line-height: 1.2em;}#sk-container-id-2 div.sk-label-container {text-align: center;}#sk-container-id-2 div.sk-container {/* jupyter's `normalize.less` sets `[hidden] { display: none; }` but bootstrap.min.css set `[hidden] { display: none !important; }` so we also need the `!important` here to be able to override the default hidden behavior on the sphinx rendered scikit-learn.org. See: https://github.com/scikit-learn/scikit-learn/issues/21755 */display: inline-block !important;position: relative;}#sk-container-id-2 div.sk-text-repr-fallback {display: none;}</style><div id=\"sk-container-id-2\" class=\"sk-top-container\"><div class=\"sk-text-repr-fallback\"><pre>RandomForestClassifier()</pre><b>In a Jupyter environment, please rerun this cell to show the HTML representation or trust the notebook. <br />On GitHub, the HTML representation is unable to render, please try loading this page with nbviewer.org.</b></div><div class=\"sk-container\" hidden><div class=\"sk-item\"><div class=\"sk-estimator sk-toggleable\"><input class=\"sk-toggleable__control sk-hidden--visually\" id=\"sk-estimator-id-2\" type=\"checkbox\" checked><label for=\"sk-estimator-id-2\" class=\"sk-toggleable__label sk-toggleable__label-arrow\">RandomForestClassifier</label><div class=\"sk-toggleable__content\"><pre>RandomForestClassifier()</pre></div></div></div></div></div>"
      ],
      "text/plain": [
       "RandomForestClassifier()"
      ]
     },
     "execution_count": 28,
     "metadata": {},
     "output_type": "execute_result"
    }
   ],
   "source": [
    "# Train a Random Forest classifier using the training data\n",
    "random_forest = RandomForestClassifier()\n",
    "random_forest.fit(X_train_tfidf, y_train)"
   ]
  },
  {
   "cell_type": "code",
   "execution_count": 29,
   "id": "f8246397",
   "metadata": {},
   "outputs": [
    {
     "name": "stdout",
     "output_type": "stream",
     "text": [
      "Accuracy on test set (Random Forest): 0.8488\n"
     ]
    }
   ],
   "source": [
    "# Model accuracy on test set\n",
    "y_pred_rf = random_forest.predict(X_test_tfidf)\n",
    "accuracy_rf = accuracy_score(y_test, y_pred_rf)\n",
    "print(\"Accuracy on test set (Random Forest):\", accuracy_rf)"
   ]
  },
  {
   "cell_type": "code",
   "execution_count": 30,
   "id": "72b9cd16",
   "metadata": {},
   "outputs": [
    {
     "name": "stdout",
     "output_type": "stream",
     "text": [
      "Confusion Matrix (Random Forest):\n",
      "[[2111  370]\n",
      " [ 386 2133]]\n"
     ]
    }
   ],
   "source": [
    "# Create a confusion matrix for the test set predictions (Random Forest)\n",
    "conf_matrix_rf = confusion_matrix(y_test, y_pred_rf)\n",
    "print(\"Confusion Matrix (Random Forest):\")\n",
    "print(conf_matrix_rf)"
   ]
  },
  {
   "cell_type": "code",
   "execution_count": 31,
   "id": "40d12b22",
   "metadata": {},
   "outputs": [
    {
     "name": "stdout",
     "output_type": "stream",
     "text": [
      "Classification Report (Random Forest):\n",
      "              precision    recall  f1-score   support\n",
      "\n",
      "           0       0.85      0.85      0.85      2481\n",
      "           1       0.85      0.85      0.85      2519\n",
      "\n",
      "    accuracy                           0.85      5000\n",
      "   macro avg       0.85      0.85      0.85      5000\n",
      "weighted avg       0.85      0.85      0.85      5000\n",
      "\n"
     ]
    }
   ],
   "source": [
    "# Get precision, recall, and F1-score for the test set predictions (Random Forest)\n",
    "classification_rep_rf = classification_report(y_test, y_pred_rf)\n",
    "print(\"Classification Report (Random Forest):\")\n",
    "print(classification_rep_rf)"
   ]
  },
  {
   "cell_type": "code",
   "execution_count": 32,
   "id": "ba29ac70",
   "metadata": {},
   "outputs": [
    {
     "data": {
      "image/png": "[encoded data removed]",
      "text/plain": [
       "<Figure size 640x480 with 1 Axes>"
      ]
     },
     "metadata": {},
     "output_type": "display_data"
    }
   ],
   "source": [
    "# Create a ROC curve for the test set (Random Forest)\n",
    "fpr_rf, tpr_rf, thresholds_rf = roc_curve(y_test, random_forest.predict_proba(X_test_tfidf)[:,1])\n",
    "plt.plot(fpr_rf, tpr_rf)\n",
    "plt.xlabel('False Positive Rate')\n",
    "plt.ylabel('True Positive Rate')\n",
    "plt.title('ROC Curve (Random Forest)')\n",
    "plt.show()"
   ]
  },
  {
   "cell_type": "code",
   "execution_count": 39,
   "id": "b8be6b60",
   "metadata": {},
   "outputs": [
    {
     "name": "stdout",
     "output_type": "stream",
     "text": [
      "    False Positive Rate (RF)  True Positive Rate (RF)  Thresholds (RF)\n",
      "0                   0.000000                 0.000000              inf\n",
      "1                   0.000000                 0.000397             0.95\n",
      "2                   0.000000                 0.000794             0.93\n",
      "3                   0.000000                 0.002382             0.92\n",
      "4                   0.000000                 0.003573             0.91\n",
      "..                       ...                      ...              ...\n",
      "85                  0.997179                 0.999603             0.10\n",
      "86                  0.997985                 1.000000             0.09\n",
      "87                  0.998388                 1.000000             0.08\n",
      "88                  0.999194                 1.000000             0.07\n",
      "89                  1.000000                 1.000000             0.04\n",
      "\n",
      "[90 rows x 3 columns]\n"
     ]
    }
   ],
   "source": [
    "import pandas as pd\n",
    "from sklearn.metrics import roc_curve\n",
    "\n",
    "# Calculate ROC curve values for Random Forest\n",
    "fpr_rf, tpr_rf, thresholds_rf = roc_curve(y_test, random_forest.predict_proba(X_test_tfidf)[:,1])\n",
    "\n",
    "# Create a DataFrame to store the results\n",
    "roc_rf_df = pd.DataFrame({'False Positive Rate (RF)': fpr_rf, 'True Positive Rate (RF)': tpr_rf, 'Thresholds (RF)': thresholds_rf})\n",
    "\n",
    "# Display the DataFrame\n",
    "print(roc_rf_df)\n"
   ]
  },
  {
   "cell_type": "code",
   "execution_count": null,
   "id": "f86c369b",
   "metadata": {},
   "outputs": [],
   "source": []
  },
  {
   "cell_type": "markdown",
   "id": "5cb6b2b5",
   "metadata": {},
   "source": [
    "# Short Report\n",
    "\n",
    "Title: Analysis of Sentiment Analysis Techniques on Movie Reviews: A Comparative Study\n",
    "\n",
    "\n",
    "Introduction:\n",
    "\n",
    "Sentiment analysis, also known as opinion mining, is a computational technique used to determine the sentiment expressed in text data. It has widespread applications in various fields, including marketing, customer feedback analysis, and social media monitoring. In this study, we aim to analyze the performance of different sentiment analysis techniques on movie reviews. Specifically, we will compare the accuracy of TextBlob, VADER sentiment analyzer, and a custom model based on logistic regression.\n",
    "\n",
    "\n",
    "Statement of the Problem:\n",
    "\n",
    "The increasing availability of online reviews has made sentiment analysis a crucial tool for businesses to understand customer sentiments towards their products or services. However, the accuracy of sentiment analysis models can vary depending on the dataset and the technique used. Therefore, it is important to evaluate and compare different sentiment analysis techniques to identify the most effective approach for analyzing movie reviews.\n",
    "\n",
    "\n",
    "Methodology:\n",
    "\n",
    "Data Collection: I obtained the movie review dataset from Kaggle's \"Bag of Words Meets Bags of Popcorn\" competition.\n",
    "Pre-processing: Text pre-processing steps were performed, including converting text to lowercase, removing punctuation and special characters, removing stop words, and applying stemming using NLTK's PorterStemmer.\n",
    "Data Splitting: The dataset was divided into training and test sets using an 80:20 split ratio.\n",
    "Feature Extraction: TF-IDF vectorization was applied to convert the text data into numerical features.\n",
    "Model Training (Logistic Regression): A logistic regression model was trained on the training set using the TF-IDF transformed data.\n",
    "Model Training (Random Forest): In addition to logistic regression, I trained a Random Forest classifier on the training set to compare performance.\n",
    "Model Evaluation (Logistic Regression): The logistic regression model's performance was evaluated on the test set using accuracy, confusion matrix, precision, recall, F1-score, and ROC curve analysis.\n",
    "Model Evaluation (Random Forest): Similarly, the Random Forest classifier's performance was evaluated on the test set using the same metrics to compare against logistic regression.\n",
    "\n",
    "\n",
    "Assumptions:\n",
    "\n",
    "The movie review dataset represents a diverse range of movies and opinions.\n",
    "The sentiment labels provided in the dataset are accurate and reliable.\n",
    "The selected pre-processing techniques (e.g., lowercasing, removing punctuation and stop words, stemming) are sufficient for cleaning the text data and improving model performance.\n",
    "Both logistic regression and Random Forest models are appropriate choices for sentiment analysis tasks and provide interpretable results.\n",
    "\n",
    "\n",
    "Ethical Considerations:\n",
    "\n",
    "Respect for Privacy: The movie review dataset used in this study contains potentially sensitive information about individuals' opinions. taking precautions to anonymize the data and ensure privacy protection.\n",
    "Bias Mitigation: acknowledging the presence of biases in the dataset and have attempted to mitigate them by employing diverse sources of reviews and using standard pre-processing techniques.\n",
    "Transparency: provide transparency in the methodology and results to facilitate reproducibility and scrutiny.\n",
    "\n",
    "\n",
    "Results and Discussion:\n",
    "\n",
    "The results of the logistic regression model showcase a commendable performance, with an accuracy of 88.66% on the test set. The confusion matrix reveals that the model correctly classified 2159 negative sentiments and 2274 positive sentiments, while misclassifying 322 negative sentiments and 245 positive sentiments. This indicates a relatively balanced performance in correctly identifying both positive and negative sentiments. The classification report further supports this, with precision, recall, and F1-score values around 0.89 for both classes. These metrics indicate a robust ability of the model to generalize well to unseen data, with a weighted average F1-score of 0.89.\n",
    "\n",
    "On the other hand, the random forest model achieved an accuracy of 84.88% on the test set, slightly lower than the logistic regression model. The confusion matrix for the random forest model shows a similar trend to logistic regression, correctly classifying 2111 negative sentiments and 2133 positive sentiments, while misclassifying 370 negative sentiments and 386 positive sentiments. The classification report for the random forest model also demonstrates balanced performance, with precision, recall, and F1-score values around 0.85 for both classes, yielding a weighted average F1-score of 0.85.\n",
    "\n",
    "Comparing the two models, logistic regression outperformed random forest in terms of accuracy, achieving a higher value of 88.66% compared to 84.88%. Additionally, logistic regression demonstrated slightly better performance in terms of precision, recall, and F1-score, particularly for the positive sentiment class. However, it's essential to consider that both models achieved relatively similar results, indicating that both approaches are effective for sentiment analysis tasks. Furthermore, the ROC curves illustrate the trade-off between true positive rate and false positive rate for different threshold values, providing insight into the models' performance across various classification thresholds. Overall, while logistic regression showcased marginally superior performance in this scenario, both models exhibit robustness in sentiment classification tasks.\n",
    "\n",
    "\n",
    "Conclusions:\n",
    "\n",
    "In conclusion, both logistic regression and random forest models showed robust performance in sentiment analysis tasks on the given dataset. Logistic regression achieved a slightly higher accuracy of 88.66% compared to random forest's accuracy of 84.88%. Additionally, logistic regression exhibited slightly better precision, recall, and F1-score values for both positive and negative sentiment classes. However, the differences in performance between the two models were relatively minor, indicating that both approaches are viable for sentiment analysis tasks.\n",
    "\n",
    "The results demonstrate the effectiveness of using text processing techniques such as TF-IDF vectorization and machine learning algorithms like logistic regression and random forest for sentiment analysis. These methods can successfully process and analyze textual data to extract meaningful insights, such as sentiment polarity.\n",
    "\n",
    "Furthermore, the visualization results, particularly the ROC curves, provide valuable insights into the models' performance across different classification thresholds, helping to understand the trade-offs between true positive rate and false positive rate.\n",
    "\n",
    "Overall, the study underscores the importance of employing appropriate text processing techniques and machine learning algorithms for sentiment analysis tasks, with logistic regression and random forest emerging as effective choices for classifying sentiment in textual data. Further research could explore other machine learning models and ensemble techniques to potentially enhance the performance of sentiment analysis systems in various domains and applications.\n",
    "\n",
    "\n",
    "The way forward:\n",
    "\n",
    "Moving forward, several avenues can be explored to enhance sentiment analysis performance and extend the capabilities of the models:\n",
    "\n",
    "Feature Engineering: Experiment with different text preprocessing techniques, such as n-grams, word embeddings, and syntactic analysis, to extract more informative features from the text data. Additionally, incorporating domain-specific knowledge and lexicons could further improve the models' understanding of context and semantics.\n",
    "\n",
    "Model Selection and Optimization: Explore a wider range of machine learning algorithms, including gradient boosting, support vector machines, and deep learning architectures like recurrent neural networks (RNNs) and transformers. Fine-tuning hyperparameters and conducting model selection experiments can help identify the most suitable algorithm for the specific sentiment analysis task.\n",
    "\n",
    "Ensemble Learning: Investigate ensemble learning techniques, such as model stacking and boosting, to combine the predictions of multiple models and improve overall performance. Ensemble methods can mitigate the weaknesses of individual models and enhance robustness, especially in scenarios with diverse data characteristics.\n",
    "\n",
    "Domain Adaptation and Transfer Learning: Consider domain adaptation techniques to adapt pre-trained models or embeddings to the specific domain of interest, thereby leveraging existing knowledge and improving generalization to new data. Transfer learning approaches, such as fine-tuning pre-trained language models like BERT and GPT, can also be explored to capitalize on large-scale language representations.\n",
    "\n",
    "Evaluation and Feedback: Continuously evaluate model performance on diverse datasets and real-world scenarios, incorporating user feedback and domain expertise to iteratively refine the sentiment analysis system. Conduct thorough error analysis to identify common pitfalls and areas for improvement, guiding future development efforts.\n",
    "\n",
    "Deployment and Scalability: Focus on deploying sentiment analysis solutions in scalable and efficient architectures, considering factors such as computational resources, latency, and real-time processing requirements. Explore cloud-based solutions and containerization techniques to facilitate easy deployment and scalability.\n",
    "\n",
    "By pursuing these directions, sentiment analysis systems can be further enhanced to provide more accurate, reliable, and context-aware insights from textual data, enabling applications across various domains such as customer feedback analysis, social media monitoring, market research, and opinion mining.\n"
   ]
  },
  {
   "cell_type": "code",
   "execution_count": null,
   "id": "0245033b",
   "metadata": {},
   "outputs": [],
   "source": []
  }
 ],
 "metadata": {
  "kernelspec": {
   "display_name": "Python 3 (ipykernel)",
   "language": "python",
   "name": "python3"
  },
  "language_info": {
   "codemirror_mode": {
    "name": "ipython",
    "version": 3
   },
   "file_extension": ".py",
   "mimetype": "text/x-python",
   "name": "python",
   "nbconvert_exporter": "python",
   "pygments_lexer": "ipython3",
   "version": "3.9.18"
  }
 },
 "nbformat": 4,
 "nbformat_minor": 5
}
