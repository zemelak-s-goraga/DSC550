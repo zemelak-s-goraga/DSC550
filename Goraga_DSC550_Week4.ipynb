{
 "cells": [
  {
   "cell_type": "markdown",
   "id": "63b03edf",
   "metadata": {},
   "source": [
    "Data Mining (DSC550-T301_2245_1)\n",
    "Assignement Week 4;\n",
    "\n",
    "Author: Zemelak Goraga;\n",
    "\n",
    "Date: 04/6/2024"
   ]
  },
  {
   "cell_type": "code",
   "execution_count": 1,
   "id": "144c39e9",
   "metadata": {},
   "outputs": [],
   "source": [
    "# 1. Import required library\n",
    "import pandas as pd"
   ]
  },
  {
   "cell_type": "code",
   "execution_count": 2,
   "id": "5ca6e56b",
   "metadata": {},
   "outputs": [],
   "source": [
    "# 2. Load the dataset into a DataFrame\n",
    "auto_mpg = pd.read_csv('auto-mpg.csv')"
   ]
  },
  {
   "cell_type": "code",
   "execution_count": 3,
   "id": "12c3d22f",
   "metadata": {},
   "outputs": [],
   "source": [
    "# 2.1 Save the dataset as auto-mpg\n",
    "#auto_mpg.to_csv('auto-mpg.csv', index=False)"
   ]
  },
  {
   "cell_type": "code",
   "execution_count": 4,
   "id": "53e324b9",
   "metadata": {},
   "outputs": [
    {
     "name": "stdout",
     "output_type": "stream",
     "text": [
      "    mpg  cylinders  displacement horsepower  weight  acceleration  model year  \\\n",
      "0  18.0          8         307.0        130    3504          12.0          70   \n",
      "1  15.0          8         350.0        165    3693          11.5          70   \n",
      "2  18.0          8         318.0        150    3436          11.0          70   \n",
      "3  16.0          8         304.0        150    3433          12.0          70   \n",
      "4  17.0          8         302.0        140    3449          10.5          70   \n",
      "\n",
      "   origin                   car name  \n",
      "0       1  chevrolet chevelle malibu  \n",
      "1       1          buick skylark 320  \n",
      "2       1         plymouth satellite  \n",
      "3       1              amc rebel sst  \n",
      "4       1                ford torino  \n"
     ]
    }
   ],
   "source": [
    "# 2.2 Display the first 5 rows of the dataset\n",
    "print(auto_mpg.head())"
   ]
  },
  {
   "cell_type": "code",
   "execution_count": 5,
   "id": "3b1161cb",
   "metadata": {},
   "outputs": [],
   "source": [
    "# 2.3 Data wrangling\n",
    "# Remove the car name column\n",
    "auto_mpg = auto_mpg.drop(columns=['car name'])"
   ]
  },
  {
   "cell_type": "code",
   "execution_count": 6,
   "id": "19655f00",
   "metadata": {},
   "outputs": [
    {
     "name": "stdout",
     "output_type": "stream",
     "text": [
      "mpg             float64\n",
      "cylinders         int64\n",
      "displacement    float64\n",
      "horsepower       object\n",
      "weight            int64\n",
      "acceleration    float64\n",
      "model year        int64\n",
      "origin            int64\n",
      "dtype: object\n"
     ]
    }
   ],
   "source": [
    "# Check the data types\n",
    "print(auto_mpg.dtypes)"
   ]
  },
  {
   "cell_type": "code",
   "execution_count": 9,
   "id": "fbbcb309",
   "metadata": {},
   "outputs": [
    {
     "name": "stdout",
     "output_type": "stream",
     "text": [
      "Missing Values:\n",
      " mpg             0\n",
      "cylinders       0\n",
      "displacement    0\n",
      "horsepower      0\n",
      "weight          0\n",
      "acceleration    0\n",
      "model year      0\n",
      "origin          0\n",
      "dtype: int64\n"
     ]
    }
   ],
   "source": [
    "# Check for missing values\n",
    "missing_values = auto_mpg.isnull().sum()\n",
    "print(\"Missing Values:\\n\", missing_values)\n"
   ]
  },
  {
   "cell_type": "code",
   "execution_count": 13,
   "id": "17136a03",
   "metadata": {},
   "outputs": [],
   "source": [
    "# 3. Prepare the data for modeling\n",
    "\n",
    "# The 'horsepower' column has no missing values. \n",
    "# Convert horsepower column to numeric and replace non-numeric values with mean\n",
    "\n",
    "auto_mpg['horsepower'] = pd.to_numeric(auto_mpg['horsepower'], errors='coerce')\n",
    "auto_mpg['horsepower'].fillna(auto_mpg['horsepower'].mean(), inplace=True)"
   ]
  },
  {
   "cell_type": "code",
   "execution_count": 32,
   "id": "84d99f04",
   "metadata": {},
   "outputs": [
    {
     "name": "stdout",
     "output_type": "stream",
     "text": [
      "mpg             float64\n",
      "cylinders         int64\n",
      "displacement    float64\n",
      "horsepower      float64\n",
      "weight            int64\n",
      "acceleration    float64\n",
      "model year        int64\n",
      "origin_2          uint8\n",
      "origin_3          uint8\n",
      "dtype: object\n"
     ]
    }
   ],
   "source": [
    "# Convert horsepower column to numeric\n",
    "# Check the data types\n",
    "print(auto_mpg.dtypes)"
   ]
  },
  {
   "cell_type": "markdown",
   "id": "35569dba",
   "metadata": {},
   "source": [
    "Answer for the Questions:\n",
    "\n",
    "The horsepower column likely imported as a string due to data entry errors, missing values representation, export/import settings, inconsistent data sources, missing data conversion, or encoding issues. Careful inspection and data wrangling are necessary to ensure the correct data type for analysis.\n"
   ]
  },
  {
   "cell_type": "code",
   "execution_count": null,
   "id": "188eb716",
   "metadata": {},
   "outputs": [],
   "source": []
  },
  {
   "cell_type": "code",
   "execution_count": 14,
   "id": "811fccd6",
   "metadata": {},
   "outputs": [
    {
     "name": "stdout",
     "output_type": "stream",
     "text": [
      "\n",
      "Unique Values in 'origin' column:\n",
      " [1 3 2]\n"
     ]
    }
   ],
   "source": [
    "# Now, let's handle categorical variables. dummy variables created for the 'origin' column.\n",
    "\n",
    "# Check unique values in 'origin' column\n",
    "print(\"\\nUnique Values in 'origin' column:\\n\", auto_mpg['origin'].unique())"
   ]
  },
  {
   "cell_type": "code",
   "execution_count": 15,
   "id": "ce16b3c8",
   "metadata": {},
   "outputs": [],
   "source": [
    "# Create dummy variables for 'origin' column\n",
    "auto_mpg = pd.get_dummies(auto_mpg, columns=['origin'], drop_first=True)"
   ]
  },
  {
   "cell_type": "code",
   "execution_count": 16,
   "id": "b99e888c",
   "metadata": {},
   "outputs": [
    {
     "name": "stdout",
     "output_type": "stream",
     "text": [
      "\n",
      "Data After Creating Dummy Variables:\n",
      "     mpg  cylinders  displacement  horsepower  weight  acceleration  \\\n",
      "0  18.0          8         307.0       130.0    3504          12.0   \n",
      "1  15.0          8         350.0       165.0    3693          11.5   \n",
      "2  18.0          8         318.0       150.0    3436          11.0   \n",
      "3  16.0          8         304.0       150.0    3433          12.0   \n",
      "4  17.0          8         302.0       140.0    3449          10.5   \n",
      "\n",
      "   model year  origin_2  origin_3  \n",
      "0          70         0         0  \n",
      "1          70         0         0  \n",
      "2          70         0         0  \n",
      "3          70         0         0  \n",
      "4          70         0         0  \n"
     ]
    }
   ],
   "source": [
    "# Confirm dummy variables creation\n",
    "print(\"\\nData After Creating Dummy Variables:\\n\", auto_mpg.head())"
   ]
  },
  {
   "cell_type": "code",
   "execution_count": 18,
   "id": "66e1174f",
   "metadata": {},
   "outputs": [
    {
     "name": "stdout",
     "output_type": "stream",
     "text": [
      "                   mpg  cylinders  displacement  horsepower    weight  \\\n",
      "mpg           1.000000  -0.775396     -0.804203   -0.771437 -0.831741   \n",
      "cylinders    -0.775396   1.000000      0.950721    0.838939  0.896017   \n",
      "displacement -0.804203   0.950721      1.000000    0.893646  0.932824   \n",
      "horsepower   -0.771437   0.838939      0.893646    1.000000  0.860574   \n",
      "weight       -0.831741   0.896017      0.932824    0.860574  1.000000   \n",
      "acceleration  0.420289  -0.505419     -0.543684   -0.684259 -0.417457   \n",
      "model year    0.579267  -0.348746     -0.370164   -0.411651 -0.306564   \n",
      "origin_2      0.259022  -0.352861     -0.373886   -0.281258 -0.298843   \n",
      "origin_3      0.442174  -0.396479     -0.433505   -0.321325 -0.440817   \n",
      "\n",
      "              acceleration  model year  origin_2  origin_3  \n",
      "mpg               0.420289    0.579267  0.259022  0.442174  \n",
      "cylinders        -0.505419   -0.348746 -0.352861 -0.396479  \n",
      "displacement     -0.543684   -0.370164 -0.373886 -0.433505  \n",
      "horsepower       -0.684259   -0.411651 -0.281258 -0.321325  \n",
      "weight           -0.417457   -0.306564 -0.298843 -0.440817  \n",
      "acceleration      1.000000    0.288137  0.204473  0.109144  \n",
      "model year        0.288137    1.000000 -0.024489  0.193101  \n",
      "origin_2          0.204473   -0.024489  1.000000 -0.229895  \n",
      "origin_3          0.109144    0.193101 -0.229895  1.000000  \n"
     ]
    }
   ],
   "source": [
    "# 4. Explore correlations\n",
    "correlation_matrix = auto_mpg.corr()\n",
    "print(correlation_matrix)"
   ]
  },
  {
   "cell_type": "markdown",
   "id": "fb9ce4af",
   "metadata": {},
   "source": [
    "Answer for the Question:\n",
    "\n",
    "Features highly correlated with MPG (miles per gallon) likely include:\n",
    "Weight: Heavier vehicles tend to have lower fuel efficiency due to increased fuel consumption.\n",
    "Displacement: Larger engine displacements often result in lower MPG as they consume more fuel.\n",
    "Cylinders: More cylinders generally indicate higher power output, but they can also lead to decreased fuel efficiency.\n",
    "Horsepower: Higher horsepower engines typically consume more fuel, resulting in lower MPG.\n",
    "Acceleration: Faster acceleration may correlate with lower MPG due to increased fuel consumption.\n",
    "\n",
    "These features directly affect the energy consumption of the vehicle and are likely to exhibit strong correlations with MPG."
   ]
  },
  {
   "cell_type": "code",
   "execution_count": 19,
   "id": "816fd9a6",
   "metadata": {},
   "outputs": [
    {
     "data": {
      "image/png": "[encoded data removed]",
      "text/plain": [
       "<Figure size 640x480 with 1 Axes>"
      ]
     },
     "metadata": {},
     "output_type": "display_data"
    }
   ],
   "source": [
    "# 5. Visualize mpg versus weight\n",
    "import matplotlib.pyplot as plt\n",
    "\n",
    "plt.scatter(auto_mpg['weight'], auto_mpg['mpg'])\n",
    "plt.xlabel('Weight')\n",
    "plt.ylabel('MPG')\n",
    "plt.title('MPG vs Weight')\n",
    "plt.show()"
   ]
  },
  {
   "cell_type": "code",
   "execution_count": 20,
   "id": "380b8b89",
   "metadata": {},
   "outputs": [],
   "source": [
    "# 6. Split the data into training and testing sets\n",
    "from sklearn.model_selection import train_test_split\n",
    "\n",
    "X = auto_mpg.drop(columns=['mpg'])\n",
    "y = auto_mpg['mpg']\n",
    "X_train, X_test, y_train, y_test = train_test_split(X, y, test_size=0.2, random_state=42)"
   ]
  },
  {
   "cell_type": "code",
   "execution_count": 33,
   "id": "a568fbb1",
   "metadata": {},
   "outputs": [
    {
     "data": {
      "text/html": [
       "<style>#sk-container-id-2 {color: black;}#sk-container-id-2 pre{padding: 0;}#sk-container-id-2 div.sk-toggleable {background-color: white;}#sk-container-id-2 label.sk-toggleable__label {cursor: pointer;display: block;width: 100%;margin-bottom: 0;padding: 0.3em;box-sizing: border-box;text-align: center;}#sk-container-id-2 label.sk-toggleable__label-arrow:before {content: \"▸\";float: left;margin-right: 0.25em;color: #696969;}#sk-container-id-2 label.sk-toggleable__label-arrow:hover:before {color: black;}#sk-container-id-2 div.sk-estimator:hover label.sk-toggleable__label-arrow:before {color: black;}#sk-container-id-2 div.sk-toggleable__content {max-height: 0;max-width: 0;overflow: hidden;text-align: left;background-color: #f0f8ff;}#sk-container-id-2 div.sk-toggleable__content pre {margin: 0.2em;color: black;border-radius: 0.25em;background-color: #f0f8ff;}#sk-container-id-2 input.sk-toggleable__control:checked~div.sk-toggleable__content {max-height: 200px;max-width: 100%;overflow: auto;}#sk-container-id-2 input.sk-toggleable__control:checked~label.sk-toggleable__label-arrow:before {content: \"▾\";}#sk-container-id-2 div.sk-estimator input.sk-toggleable__control:checked~label.sk-toggleable__label {background-color: #d4ebff;}#sk-container-id-2 div.sk-label input.sk-toggleable__control:checked~label.sk-toggleable__label {background-color: #d4ebff;}#sk-container-id-2 input.sk-hidden--visually {border: 0;clip: rect(1px 1px 1px 1px);clip: rect(1px, 1px, 1px, 1px);height: 1px;margin: -1px;overflow: hidden;padding: 0;position: absolute;width: 1px;}#sk-container-id-2 div.sk-estimator {font-family: monospace;background-color: #f0f8ff;border: 1px dotted black;border-radius: 0.25em;box-sizing: border-box;margin-bottom: 0.5em;}#sk-container-id-2 div.sk-estimator:hover {background-color: #d4ebff;}#sk-container-id-2 div.sk-parallel-item::after {content: \"\";width: 100%;border-bottom: 1px solid gray;flex-grow: 1;}#sk-container-id-2 div.sk-label:hover label.sk-toggleable__label {background-color: #d4ebff;}#sk-container-id-2 div.sk-serial::before {content: \"\";position: absolute;border-left: 1px solid gray;box-sizing: border-box;top: 0;bottom: 0;left: 50%;z-index: 0;}#sk-container-id-2 div.sk-serial {display: flex;flex-direction: column;align-items: center;background-color: white;padding-right: 0.2em;padding-left: 0.2em;position: relative;}#sk-container-id-2 div.sk-item {position: relative;z-index: 1;}#sk-container-id-2 div.sk-parallel {display: flex;align-items: stretch;justify-content: center;background-color: white;position: relative;}#sk-container-id-2 div.sk-item::before, #sk-container-id-2 div.sk-parallel-item::before {content: \"\";position: absolute;border-left: 1px solid gray;box-sizing: border-box;top: 0;bottom: 0;left: 50%;z-index: -1;}#sk-container-id-2 div.sk-parallel-item {display: flex;flex-direction: column;z-index: 1;position: relative;background-color: white;}#sk-container-id-2 div.sk-parallel-item:first-child::after {align-self: flex-end;width: 50%;}#sk-container-id-2 div.sk-parallel-item:last-child::after {align-self: flex-start;width: 50%;}#sk-container-id-2 div.sk-parallel-item:only-child::after {width: 0;}#sk-container-id-2 div.sk-dashed-wrapped {border: 1px dashed gray;margin: 0 0.4em 0.5em 0.4em;box-sizing: border-box;padding-bottom: 0.4em;background-color: white;}#sk-container-id-2 div.sk-label label {font-family: monospace;font-weight: bold;display: inline-block;line-height: 1.2em;}#sk-container-id-2 div.sk-label-container {text-align: center;}#sk-container-id-2 div.sk-container {/* jupyter's `normalize.less` sets `[hidden] { display: none; }` but bootstrap.min.css set `[hidden] { display: none !important; }` so we also need the `!important` here to be able to override the default hidden behavior on the sphinx rendered scikit-learn.org. See: https://github.com/scikit-learn/scikit-learn/issues/21755 */display: inline-block !important;position: relative;}#sk-container-id-2 div.sk-text-repr-fallback {display: none;}</style><div id=\"sk-container-id-2\" class=\"sk-top-container\"><div class=\"sk-text-repr-fallback\"><pre>LinearRegression()</pre><b>In a Jupyter environment, please rerun this cell to show the HTML representation or trust the notebook. <br />On GitHub, the HTML representation is unable to render, please try loading this page with nbviewer.org.</b></div><div class=\"sk-container\" hidden><div class=\"sk-item\"><div class=\"sk-estimator sk-toggleable\"><input class=\"sk-toggleable__control sk-hidden--visually\" id=\"sk-estimator-id-2\" type=\"checkbox\" checked><label for=\"sk-estimator-id-2\" class=\"sk-toggleable__label sk-toggleable__label-arrow\">LinearRegression</label><div class=\"sk-toggleable__content\"><pre>LinearRegression()</pre></div></div></div></div></div>"
      ],
      "text/plain": [
       "LinearRegression()"
      ]
     },
     "execution_count": 33,
     "metadata": {},
     "output_type": "execute_result"
    }
   ],
   "source": [
    "# 7. Train linear regression\n",
    "from sklearn.linear_model import LinearRegression\n",
    "from sklearn.metrics import r2_score, mean_squared_error, mean_absolute_error\n",
    "# Instantiate and fit the model\n",
    "lr = LinearRegression()\n",
    "lr.fit(X_train, y_train)"
   ]
  },
  {
   "cell_type": "code",
   "execution_count": 26,
   "id": "621e82d2",
   "metadata": {},
   "outputs": [
    {
     "data": {
      "text/html": [
       "<div>\n",
       "<style scoped>\n",
       "    .dataframe tbody tr th:only-of-type {\n",
       "        vertical-align: middle;\n",
       "    }\n",
       "\n",
       "    .dataframe tbody tr th {\n",
       "        vertical-align: top;\n",
       "    }\n",
       "\n",
       "    .dataframe thead th {\n",
       "        text-align: right;\n",
       "    }\n",
       "</style>\n",
       "<table border=\"1\" class=\"dataframe\">\n",
       "  <thead>\n",
       "    <tr style=\"text-align: right;\">\n",
       "      <th></th>\n",
       "      <th>cylinders</th>\n",
       "      <th>displacement</th>\n",
       "      <th>horsepower</th>\n",
       "      <th>weight</th>\n",
       "      <th>acceleration</th>\n",
       "      <th>model year</th>\n",
       "      <th>origin_2</th>\n",
       "      <th>origin_3</th>\n",
       "    </tr>\n",
       "  </thead>\n",
       "  <tbody>\n",
       "    <tr>\n",
       "      <th>3</th>\n",
       "      <td>8</td>\n",
       "      <td>304.0</td>\n",
       "      <td>150.0</td>\n",
       "      <td>3433</td>\n",
       "      <td>12.0</td>\n",
       "      <td>70</td>\n",
       "      <td>0</td>\n",
       "      <td>0</td>\n",
       "    </tr>\n",
       "    <tr>\n",
       "      <th>18</th>\n",
       "      <td>4</td>\n",
       "      <td>97.0</td>\n",
       "      <td>88.0</td>\n",
       "      <td>2130</td>\n",
       "      <td>14.5</td>\n",
       "      <td>70</td>\n",
       "      <td>0</td>\n",
       "      <td>1</td>\n",
       "    </tr>\n",
       "    <tr>\n",
       "      <th>376</th>\n",
       "      <td>4</td>\n",
       "      <td>91.0</td>\n",
       "      <td>68.0</td>\n",
       "      <td>2025</td>\n",
       "      <td>18.2</td>\n",
       "      <td>82</td>\n",
       "      <td>0</td>\n",
       "      <td>1</td>\n",
       "    </tr>\n",
       "    <tr>\n",
       "      <th>248</th>\n",
       "      <td>4</td>\n",
       "      <td>91.0</td>\n",
       "      <td>60.0</td>\n",
       "      <td>1800</td>\n",
       "      <td>16.4</td>\n",
       "      <td>78</td>\n",
       "      <td>0</td>\n",
       "      <td>1</td>\n",
       "    </tr>\n",
       "    <tr>\n",
       "      <th>177</th>\n",
       "      <td>4</td>\n",
       "      <td>115.0</td>\n",
       "      <td>95.0</td>\n",
       "      <td>2694</td>\n",
       "      <td>15.0</td>\n",
       "      <td>75</td>\n",
       "      <td>1</td>\n",
       "      <td>0</td>\n",
       "    </tr>\n",
       "    <tr>\n",
       "      <th>...</th>\n",
       "      <td>...</td>\n",
       "      <td>...</td>\n",
       "      <td>...</td>\n",
       "      <td>...</td>\n",
       "      <td>...</td>\n",
       "      <td>...</td>\n",
       "      <td>...</td>\n",
       "      <td>...</td>\n",
       "    </tr>\n",
       "    <tr>\n",
       "      <th>71</th>\n",
       "      <td>3</td>\n",
       "      <td>70.0</td>\n",
       "      <td>97.0</td>\n",
       "      <td>2330</td>\n",
       "      <td>13.5</td>\n",
       "      <td>72</td>\n",
       "      <td>0</td>\n",
       "      <td>1</td>\n",
       "    </tr>\n",
       "    <tr>\n",
       "      <th>106</th>\n",
       "      <td>8</td>\n",
       "      <td>350.0</td>\n",
       "      <td>180.0</td>\n",
       "      <td>4499</td>\n",
       "      <td>12.5</td>\n",
       "      <td>73</td>\n",
       "      <td>0</td>\n",
       "      <td>0</td>\n",
       "    </tr>\n",
       "    <tr>\n",
       "      <th>270</th>\n",
       "      <td>4</td>\n",
       "      <td>134.0</td>\n",
       "      <td>95.0</td>\n",
       "      <td>2515</td>\n",
       "      <td>14.8</td>\n",
       "      <td>78</td>\n",
       "      <td>0</td>\n",
       "      <td>1</td>\n",
       "    </tr>\n",
       "    <tr>\n",
       "      <th>348</th>\n",
       "      <td>4</td>\n",
       "      <td>89.0</td>\n",
       "      <td>62.0</td>\n",
       "      <td>2050</td>\n",
       "      <td>17.3</td>\n",
       "      <td>81</td>\n",
       "      <td>0</td>\n",
       "      <td>1</td>\n",
       "    </tr>\n",
       "    <tr>\n",
       "      <th>102</th>\n",
       "      <td>4</td>\n",
       "      <td>97.0</td>\n",
       "      <td>46.0</td>\n",
       "      <td>1950</td>\n",
       "      <td>21.0</td>\n",
       "      <td>73</td>\n",
       "      <td>1</td>\n",
       "      <td>0</td>\n",
       "    </tr>\n",
       "  </tbody>\n",
       "</table>\n",
       "<p>318 rows × 8 columns</p>\n",
       "</div>"
      ],
      "text/plain": [
       "     cylinders  displacement  horsepower  weight  acceleration  model year  \\\n",
       "3            8         304.0       150.0    3433          12.0          70   \n",
       "18           4          97.0        88.0    2130          14.5          70   \n",
       "376          4          91.0        68.0    2025          18.2          82   \n",
       "248          4          91.0        60.0    1800          16.4          78   \n",
       "177          4         115.0        95.0    2694          15.0          75   \n",
       "..         ...           ...         ...     ...           ...         ...   \n",
       "71           3          70.0        97.0    2330          13.5          72   \n",
       "106          8         350.0       180.0    4499          12.5          73   \n",
       "270          4         134.0        95.0    2515          14.8          78   \n",
       "348          4          89.0        62.0    2050          17.3          81   \n",
       "102          4          97.0        46.0    1950          21.0          73   \n",
       "\n",
       "     origin_2  origin_3  \n",
       "3           0         0  \n",
       "18          0         1  \n",
       "376         0         1  \n",
       "248         0         1  \n",
       "177         1         0  \n",
       "..        ...       ...  \n",
       "71          0         1  \n",
       "106         0         0  \n",
       "270         0         1  \n",
       "348         0         1  \n",
       "102         1         0  \n",
       "\n",
       "[318 rows x 8 columns]"
      ]
     },
     "execution_count": 26,
     "metadata": {},
     "output_type": "execute_result"
    }
   ],
   "source": [
    "X_train"
   ]
  },
  {
   "cell_type": "code",
   "execution_count": 27,
   "id": "34d9eeb2",
   "metadata": {},
   "outputs": [
    {
     "data": {
      "text/plain": [
       "3      16.0\n",
       "18     27.0\n",
       "376    37.0\n",
       "248    36.1\n",
       "177    23.0\n",
       "       ... \n",
       "71     19.0\n",
       "106    12.0\n",
       "270    21.1\n",
       "348    37.7\n",
       "102    26.0\n",
       "Name: mpg, Length: 318, dtype: float64"
      ]
     },
     "execution_count": 27,
     "metadata": {},
     "output_type": "execute_result"
    }
   ],
   "source": [
    "y_train"
   ]
  },
  {
   "cell_type": "code",
   "execution_count": 22,
   "id": "e50b5093",
   "metadata": {},
   "outputs": [],
   "source": [
    "# 8. Evaluate linear regression model\n",
    "# Predict on training and test set\n",
    "y_train_pred = lr.predict(X_train)\n",
    "y_test_pred = lr.predict(X_test)"
   ]
  },
  {
   "cell_type": "code",
   "execution_count": 28,
   "id": "3439b063",
   "metadata": {},
   "outputs": [
    {
     "data": {
      "text/plain": [
       "array([15.09256983, 24.57303898, 35.66523028, 33.92173534, 25.30311292,\n",
       "       11.56055585, 32.68549182, 30.03460217, 26.33146739,  8.60203982,\n",
       "       15.93640967, 30.1240439 , 27.76246221, 33.15691325, 24.51367725,\n",
       "       32.3892269 , 29.96276599, 23.48310414, 26.37663251, 12.61339017,\n",
       "       31.17915399, 25.5761735 , 18.98864162, 15.02030253, 19.20949742,\n",
       "       10.41492293, 27.94641541, 10.53229755, 33.85787943, 35.20202025,\n",
       "       30.2365346 , 27.75734708, 21.15169117, 35.91956443, 26.16087717,\n",
       "       22.79088114, 26.58757253, 22.70697703, 32.45667155, 22.88537364,\n",
       "       13.22158493, 23.90799007, 20.52763968, 23.15742228, 19.93654496,\n",
       "       28.77838293, 34.95937245, 27.28547902, 32.34943741, 31.01865883,\n",
       "       34.52518074, 29.19707124, 33.40513156, 20.8845462 , 24.40091007,\n",
       "       20.67658111, 22.34039415, 36.46899279, 28.80724048, 33.47057538,\n",
       "       17.20051182, 10.26717473, 19.34287888, 22.03549134, 22.64712021,\n",
       "       28.36662622, 26.75102218, 26.63259136, 26.96574559, 26.26895725,\n",
       "       10.36199553, 20.01577419, 26.93228331, 26.25869238, 15.30665583,\n",
       "       33.27788386,  8.53974506, 25.24033659, 19.35667055, 31.80997115,\n",
       "       26.65290385, 18.66816583, 28.70354819, 20.5502605 , 15.45258728,\n",
       "       17.66799734, 16.76767747, 28.43431345, 23.90022777, 11.88414617,\n",
       "       10.38938494, 22.5679088 , 15.5202744 , 27.10004958, 29.65147382,\n",
       "       19.49236722, 20.71095332, 10.1307613 , 24.11351674, 16.7868837 ,\n",
       "       31.5004624 , 23.73277673,  9.86072873, 20.07142088, 30.53684552,\n",
       "       32.56827195, 23.80677344, 22.6568444 , 20.05882491, 25.3014825 ,\n",
       "       32.12843184, 15.84769999, 31.05004858, 32.03910719, 25.32039575,\n",
       "       16.34951206, 21.86367121, 29.17314107, 29.82876694, 28.31631347,\n",
       "       25.03891686, 22.75405461, 25.28526911, 29.41352361, 11.13220856,\n",
       "       14.12594319, 32.7549587 , 26.37483412, 31.84717963, 23.95226895,\n",
       "       23.56864791, 30.31526794, 27.5787247 , 29.52096028, 23.95274744,\n",
       "       26.72592808, 34.32010883, 20.8176623 , 27.8226126 , 21.66788347,\n",
       "       35.74405702, 13.63563098, 20.20758318, 18.38074534, 31.2699162 ,\n",
       "       31.48756835, 15.27217727, 30.71617847, 14.02548421, 15.62189937,\n",
       "       30.52511375,  8.03454099, 22.34498091, 26.68830132, 15.22808075,\n",
       "       34.65643127, 28.79567407, 26.06644945, 29.89816799, 22.04290528,\n",
       "       11.04540567, 32.3324408 , 25.40043644, 23.49747448, 34.93877041,\n",
       "       21.93430562, 31.92251368, 25.27452153, 16.24474757, 33.41425579,\n",
       "       24.5764402 , 17.02956422,  5.39323242, 26.32425269, 12.77849495,\n",
       "       31.11104231, 13.49783768, 27.37871138, 29.51826722, 11.62967347,\n",
       "       14.46939549, 16.84941277,  5.80802768, 24.05847226, 29.35119481,\n",
       "       32.95193753, 25.27954417, 17.84581492,  8.72131787, 26.33729413,\n",
       "       30.33090437, 24.48215288, 34.37644579, 23.781012  , 11.5782603 ,\n",
       "       35.39805675, 24.7974856 , 24.45865001, 28.71682989, 14.9636583 ,\n",
       "       21.56194286, 32.6760148 , 20.91609955, 20.79868519, 28.65060428,\n",
       "       16.62529068, 25.20891441, 19.04829332, 18.20040541, 23.55893757,\n",
       "       17.14515692, 23.4715287 , 28.76012693, 19.95058279, 32.55126148,\n",
       "        7.96405745, 30.59797595, 16.2970614 , 20.19469999, 20.44033029,\n",
       "       17.60278181, 29.36090972, 11.54386516, 11.4998773 , 16.83997187,\n",
       "       19.39212115,  9.88604162, 12.16649561, 23.31824294, 23.1180405 ,\n",
       "       12.07120787, 11.81095383, 24.1435192 , 33.32936034, 31.54588093,\n",
       "       31.59736563, 28.83630018, 24.21557333, 23.15702952, 13.8669222 ,\n",
       "       31.0063613 , 28.16999461, 20.90908525, 29.732883  , 24.03159453,\n",
       "       33.21428156, 28.16219348, 18.66931065, 16.29500848,  8.24661861,\n",
       "       27.93803838, 15.47850288, 33.22872647, 23.78202644,  9.84209712,\n",
       "       28.05322512, 13.91767482, 22.59060121, 22.3269678 , 29.67344971,\n",
       "       15.51508775, 20.42722804, 12.16282029, 28.70004995, 26.13038658,\n",
       "       23.37327861, 26.03204112, 19.35645336, 25.4612088 , 13.58514451,\n",
       "       29.58729926, 21.33783101, 26.98718408, 30.83899171, 17.39516365,\n",
       "       26.6437844 , 34.34067161, 30.77700238, 25.65577098, 29.07772062,\n",
       "       26.04501976, 21.01864968, 16.85517241, 31.26675771, 14.75244425,\n",
       "       22.778357  , 23.90314729, 18.28001985, 33.06927175, 29.854875  ,\n",
       "       21.01678556, 22.90670734, 27.49579186, 15.96883775, 26.97291529,\n",
       "       21.16844932, 33.789383  , 36.55055782, 23.38848138, 27.28921433,\n",
       "       25.71051744, 23.70243124, 29.12617815, 27.58194699, 20.90430683,\n",
       "       28.8574653 , 14.69032267, 34.97041298, 17.41393689, 18.0160614 ,\n",
       "       28.54631567, 21.51393808, 15.05040916, 24.2547955 , 10.57241266,\n",
       "       29.12241075, 34.63589836, 29.65191668])"
      ]
     },
     "execution_count": 28,
     "metadata": {},
     "output_type": "execute_result"
    }
   ],
   "source": [
    "y_train_pred"
   ]
  },
  {
   "cell_type": "code",
   "execution_count": 29,
   "id": "ae45727d",
   "metadata": {},
   "outputs": [
    {
     "data": {
      "text/plain": [
       "array([32.46906629, 29.21916445, 21.22908656, 16.8332666 , 12.34582277,\n",
       "       26.58671671, 27.57853459, 10.08871763, 16.63527639, 21.61381724,\n",
       "       13.03694801, 35.86821932, 24.54806531, 13.53764777, 23.51472074,\n",
       "        6.26536538, 29.16002223, 24.74040223, 16.73180889, 36.01022141,\n",
       "       24.7063349 , 18.57845454, 28.87339646, 28.28991796, 14.91604793,\n",
       "       36.00939209, 26.45299768, 24.56510305, 21.9287428 ,  8.84648239,\n",
       "       28.13037809, 36.25123949, 20.86674148, 25.47434897, 33.86295532,\n",
       "       12.22741091, 22.50163798, 21.94265857, 12.15463005, 27.77250376,\n",
       "       26.01850594, 28.48403644, 20.98450457,  7.10858656, 23.89881068,\n",
       "       34.74005782, 27.85743247, 25.2063735 , 23.39028424, 28.57507313,\n",
       "       22.16701081, 33.25873865, 32.30810206, 11.13537068, 27.54119992,\n",
       "       10.13773609, 20.12331649, 29.50901471, 22.68855899, 20.23252955,\n",
       "       16.36813336, 31.64900384, 23.54930495, 21.33993908, 20.59515679,\n",
       "       24.89056375, 24.73652826, 32.07389758, 27.59474182, 12.5163299 ,\n",
       "       30.939952  , 12.83093956, 10.33127221, 19.3216378 , 27.24799498,\n",
       "       22.12150929, 20.39547184, 29.15719658, 30.4278487 , 20.19640381])"
      ]
     },
     "execution_count": 29,
     "metadata": {},
     "output_type": "execute_result"
    }
   ],
   "source": [
    "y_test_pred"
   ]
  },
  {
   "cell_type": "code",
   "execution_count": 30,
   "id": "35f93440",
   "metadata": {},
   "outputs": [],
   "source": [
    "# Calculate R2 score, RMSE, and MAE\n",
    "r2_train = r2_score(y_train, y_train_pred)\n",
    "r2_test = r2_score(y_test, y_test_pred)\n",
    "rmse_train = mean_squared_error(y_train, y_train_pred, squared=False)\n",
    "rmse_test = mean_squared_error(y_test, y_test_pred, squared=False)\n",
    "mae_train = mean_absolute_error(y_train, y_train_pred)\n",
    "mae_test = mean_absolute_error(y_test, y_test_pred)"
   ]
  },
  {
   "cell_type": "markdown",
   "id": "7515ca1d",
   "metadata": {},
   "source": [
    "Answer for the Questions:\n",
    "\n",
    "The R-squared (R2) value measures the proportion of the variance in the dependent variable (MPG) that is predictable from the independent variables (features).\n",
    "\n",
    "A higher R2 value (close to 1) indicates that the model explains a larger proportion of the variance in the target variable, suggesting better predictive performance.\n",
    "Root Mean Squared Error (RMSE) and Mean Absolute Error (MAE) are both metrics used to evaluate the accuracy of the regression model's predictions.\n",
    "\n",
    "RMSE represents the average difference between the actual and predicted values, with lower values indicating better performance.\n",
    "MAE represents the average absolute difference between the actual and predicted values, with lower values indicating better performance.\n",
    "Interpretation of results:\n",
    "\n",
    "Training Set:\n",
    "\n",
    "A high R2 value (close to 1) on the training set indicates that the model fits the data well and explains a large proportion of the variance in MPG.\n",
    "A low RMSE and MAE on the training set indicate that the model's predictions are close to the actual values with minimal error.\n",
    "Test Set:\n",
    "\n",
    "A similar or slightly lower R2 value compared to the training set suggests that the model generalizes well to unseen data.\n",
    "A low RMSE and MAE on the test set indicate that the model's performance remains consistent when making predictions on new data.\n",
    "In summary, high R2 values, low RMSE, and low MAE on both training and test sets indicate that the regression model accurately predicts MPG and generalizes well to unseen data."
   ]
  },
  {
   "cell_type": "code",
   "execution_count": 24,
   "id": "eec9cf08",
   "metadata": {},
   "outputs": [
    {
     "name": "stdout",
     "output_type": "stream",
     "text": [
      "Linear Regression Performance:\n",
      "Training R^2: 0.8188288951042786\n",
      "Testing R^2: 0.8449006123776617\n",
      "Training RMSE: 3.370273563938906\n",
      "Testing RMSE: 2.8877573478836314\n",
      "Training MAE: 2.6054846937710368\n",
      "Testing MAE: 2.2875867704421067\n"
     ]
    }
   ],
   "source": [
    "# Print the results\n",
    "print(\"Linear Regression Performance:\")\n",
    "print(\"Training R^2:\", r2_train)\n",
    "print(\"Testing R^2:\", r2_test)\n",
    "print(\"Training RMSE:\", rmse_train)\n",
    "print(\"Testing RMSE:\", rmse_test)\n",
    "print(\"Training MAE:\", mae_train)\n",
    "print(\"Testing MAE:\", mae_test)"
   ]
  },
  {
   "cell_type": "code",
   "execution_count": 25,
   "id": "8cffc2e3",
   "metadata": {},
   "outputs": [
    {
     "name": "stdout",
     "output_type": "stream",
     "text": [
      "\n",
      "Random Forest Regression Performance:\n",
      "Training R^2: 0.9810189898945959\n",
      "Testing R^2: 0.9105817015747857\n",
      "Training RMSE: 1.0908884599607205\n",
      "Testing RMSE: 2.1926476945692848\n",
      "Training MAE: 0.7477955974842765\n",
      "Testing MAE: 1.6282625\n"
     ]
    }
   ],
   "source": [
    "# 9. Pick another regression model: I used Random Forest Regression model as an alternative to Linear Regression\n",
    "from sklearn.ensemble import RandomForestRegressor\n",
    "\n",
    "# Instantiate and fit the model\n",
    "rf = RandomForestRegressor(random_state=42)\n",
    "rf.fit(X_train, y_train)\n",
    "\n",
    "# Predict on training and test set\n",
    "y_train_pred_rf = rf.predict(X_train)\n",
    "y_test_pred_rf = rf.predict(X_test)\n",
    "\n",
    "# Calculate R2 score, RMSE, and MAE\n",
    "r2_train_rf = r2_score(y_train, y_train_pred_rf)\n",
    "r2_test_rf = r2_score(y_test, y_test_pred_rf)\n",
    "rmse_train_rf = mean_squared_error(y_train, y_train_pred_rf, squared=False)\n",
    "rmse_test_rf = mean_squared_error(y_test, y_test_pred_rf, squared=False)\n",
    "mae_train_rf = mean_absolute_error(y_train, y_train_pred_rf)\n",
    "mae_test_rf = mean_absolute_error(y_test, y_test_pred_rf)\n",
    "\n",
    "# Print the results\n",
    "print(\"\\nRandom Forest Regression Performance:\")\n",
    "print(\"Training R^2:\", r2_train_rf)\n",
    "print(\"Testing R^2:\", r2_test_rf)\n",
    "print(\"Training RMSE:\", rmse_train_rf)\n",
    "print(\"Testing RMSE:\", rmse_test_rf)\n",
    "print(\"Training MAE:\", mae_train_rf)\n",
    "print(\"Testing MAE:\", mae_test_rf)"
   ]
  },
  {
   "cell_type": "code",
   "execution_count": null,
   "id": "5854265e",
   "metadata": {},
   "outputs": [],
   "source": []
  },
  {
   "cell_type": "markdown",
   "id": "5985a614",
   "metadata": {},
   "source": [
    "Title: Predictive Modeling of Automobile Fuel Efficiency Using Machine Learning Algorithms\n",
    "\n",
    "Summary:\n",
    "This report presents the development and evaluation of machine learning models to predict the fuel efficiency (miles per gallon) of automobiles based on various features. The dataset used for this study is the 'auto-mpg' dataset obtained from Kaggle, containing information such as cylinders, displacement, horsepower, weight, acceleration, model year, and origin of the automobiles. Two regression models, namely Linear Regression and Random Forest Regression, were employed to predict fuel efficiency. The performance of these models was evaluated using metrics such as R-squared, Root Mean Squared Error (RMSE), and Mean Absolute Error (MAE).\n",
    "\n",
    "\n",
    "Introduction:\n",
    "Predicting fuel efficiency is crucial for automotive manufacturers and policymakers to develop more efficient vehicles and sustainable transportation systems. Machine learning techniques offer promising solutions to accurately predict fuel efficiency based on various vehicle characteristics. In this report, we explore the application of regression models to predict fuel efficiency using the auto-mpg dataset.\n",
    "\n",
    "\n",
    "Statement of the Problem:\n",
    "The primary objective of this study is to develop robust machine learning models capable of accurately predicting automobile fuel efficiency based on key features such as cylinders, displacement, horsepower, weight, acceleration, model year, and origin. \n",
    "\n",
    "We aim to address the following research questions:\n",
    "\n",
    "Can we accurately predict fuel efficiency using regression models?\n",
    "Which features are most influential in determining fuel efficiency?\n",
    "How do different regression algorithms compare in terms of predictive performance?\n",
    "\n",
    "\n",
    "Methodology:\n",
    "\n",
    "Data Collection: The auto-mpg dataset was obtained from Kaggle, containing information about automobiles and their fuel efficiency.\n",
    "\n",
    "Data Preprocessing:\n",
    "Data wrangling was performed to handle missing values and convert categorical variables into numerical format.\n",
    "Features such as car name were removed, and dummy variables were created for categorical features like origin.\n",
    "\n",
    "Data Analysis (EDA):\n",
    "Correlation analysis was conducted to identify relationships between features and fuel efficiency.\n",
    "Visualization techniques were employed to gain insights into the dataset.\n",
    "\n",
    "Model Development:\n",
    "Two regression models, Linear Regression and Random Forest Regression, were trained on the preprocessed data.\n",
    "The models were evaluated using R-squared, RMSE, and MAE metrics.\n",
    "Performance Evaluation:\n",
    "The performance of each model was assessed on both training and testing datasets to ensure generalization capability.\n",
    "\n",
    "\n",
    "Results:\n",
    "\n",
    "The results obtained from the analysis provide valuable insights into the predictive modeling of automobile fuel efficiency using machine learning algorithms. Let's discuss and compare the findings from both the linear regression and random forest regression models:\n",
    "\n",
    "\n",
    "The correlation values between MPG and other features are as follows:\n",
    "\n",
    "Cylinders: -0.775396\n",
    "Displacement: -0.804203\n",
    "Horsepower: -0.771437\n",
    "Weight: -0.831741\n",
    "Acceleration: 0.420289\n",
    "Model year: 0.579267\n",
    "Origin_2: 0.259022\n",
    "Origin_3: 0.442174\n",
    "\n",
    "\n",
    "Regression parameters:\n",
    "\n",
    "\n",
    "For linear regression:\n",
    "Training R^2: 0.8188288951042786\n",
    "Testing R^2: 0.8449006123776617\n",
    "Training RMSE: 3.370273563938906\n",
    "Testing RMSE: 2.8877573478836314\n",
    "Training MAE: 2.6054846937710368\n",
    "Testing MAE: 2.2875867704421067\n",
    "\n",
    "\n",
    "For random forest regression:\n",
    "Training R^2: 0.9810189898945959\n",
    "Testing R^2: 0.9105817015747857\n",
    "Training RMSE: 1.0908884599607205\n",
    "Testing RMSE: 2.1926476945692848\n",
    "Training MAE: 0.7477955974842765\n",
    "\n",
    "\n",
    "Linear Regression vs. Random Forest Regression:\n",
    "\n",
    "Linear Regression:\n",
    "\n",
    "Achieved a training R^2 of 0.8188 and testing R^2 of 0.8449.\n",
    "RMSE on the training set was 3.3703, while on the testing set, it was 2.8878.\n",
    "MAE on the training set was 2.6055, and on the testing set, it was 2.2876.\n",
    "Linear regression is a simple and interpretable model that assumes a linear relationship between the independent and dependent variables. It performs reasonably well, explaining around 82% of the variance in the training data and 84% in the testing data.\n",
    "\n",
    "\n",
    "Random Forest Regression:\n",
    "Achieved a training R^2 of 0.9810 and testing R^2 of 0.9106.\n",
    "RMSE on the training set was 1.0909, while on the testing set, it was 2.1926.\n",
    "MAE on the training set was 0.7478.\n",
    "Random forest regression is an ensemble learning method that builds multiple decision trees and averages their predictions. It provides higher accuracy and better generalization compared to linear regression, with an R^2 of approximately 91% on the testing data.\n",
    "Findings:\n",
    "\n",
    "\n",
    "Correlation Analysis:\n",
    "Features highly correlated with MPG include weight, displacement, cylinders, horsepower, and acceleration. These features directly affect fuel efficiency, with heavier vehicles, larger engine displacements, more cylinders, higher horsepower, and faster acceleration generally leading to lower MPG.\n",
    "\n",
    "\n",
    "Model Performance:\n",
    "Both models performed reasonably well, with the random forest regression model outperforming the linear regression model in terms of predictive accuracy.\n",
    "The linear regression model explained around 82% of the variance in the training data, while the random forest regression model explained approximately 98% of the variance.\n",
    "The random forest regression model demonstrated better generalization to unseen data, with an R^2 of approximately 91% on the testing data compared to 84% for linear regression.\n",
    "Comparison and Contrast:\n",
    "\n",
    "\n",
    "Complexity:\n",
    "Linear regression is a simple, interpretable model that assumes a linear relationship between variables. It may not capture complex nonlinear relationships in the data.\n",
    "Random forest regression is a more complex model that can capture nonlinear relationships and interactions between variables. It often provides higher predictive accuracy but may be less interpretable.\n",
    "\n",
    "\n",
    "Performance:\n",
    "Linear regression performs reasonably well but may underperform when the relationship between variables is nonlinear or when there are interactions between features.\n",
    "Random forest regression typically provides higher accuracy and better generalization to unseen data, making it more suitable for complex datasets with nonlinear relationships.\n",
    "\n",
    "Interpretability:\n",
    "Linear regression provides straightforward interpretation of coefficients, making it easier to understand how each feature contributes to the prediction.\n",
    "Random forest regression, while more accurate, is less interpretable due to its ensemble nature and the complexity of multiple decision trees.\n",
    "\n",
    "In summary, the findings indicate that while both linear regression and random forest regression models can be effective for predicting automobile fuel efficiency, the random forest regression model offers better predictive performance, particularly in capturing complex relationships in the data. However, the choice between the two models depends on factors such as the desired level of interpretability and the trade-off between accuracy and simplicity\n",
    "\n",
    "\n",
    "\n",
    "Discussion:\n",
    "\n",
    "The analysis of predictive modeling for automobile fuel efficiency using machine learning algorithms revealed valuable insights into the relationship between various vehicle features and miles per gallon (MPG). \n",
    "\n",
    "The correlation analysis of the dataset revealed significant relationships between MPG (miles per gallon) and various vehicle features. Notably, MPG exhibited strong negative correlations with weight (-0.83), displacement (-0.80), cylinders (-0.78), and horsepower (-0.77), indicating that heavier vehicles with larger engine displacements, more cylinders, and higher horsepower tend to have lower fuel efficiency. Additionally, acceleration showed a weaker positive correlation with MPG (0.42), suggesting that faster acceleration may lead to decreased fuel efficiency. Furthermore, model year exhibited a moderate positive correlation with MPG (0.58), indicating that newer vehicles tend to have better fuel efficiency. Finally, dummy variables representing the origin of the vehicle also displayed correlations with MPG, with origin_2 (0.26) and origin_3 (0.44) indicating positive relationships, although relatively weaker compared to other features. \n",
    "\n",
    "\n",
    "The comparison between linear regression and random forest regression models highlighted distinct performance characteristics: while linear regression provided reasonable predictive accuracy, the random forest regression model outperformed it, achieving a higher R^2 value on both the training and testing datasets. Specifically, the random forest regression model demonstrated superior predictive accuracy, explaining approximately 91% of the variance in MPG on the testing data, compared to 84% for linear regression, showcasing its effectiveness in capturing complex relationships and enhancing predictive performance for automobile fuel efficiency modeling.\n",
    "\n",
    "\n",
    "Conclusion:\n",
    "\n",
    "In conclusion, the analysis of the automobile fuel efficiency dataset using machine learning algorithms yielded valuable insights. The correlations highlighted the significant impact of various vehicle attributes on MPG. Notably, heavier vehicles with larger engine displacements, more cylinders, and higher horsepower exhibited lower fuel efficiency, while faster acceleration also correlated with decreased MPG. Conversely, newer vehicles tended to have better fuel efficiency, as indicated by the positive correlation with model year. Moreover, the origin of the vehicle, represented by dummy variables, showed modest correlations with MPG. The linear regression and random forest regression models provided effective means for predicting fuel efficiency, with both demonstrating strong performance metrics on both training and test datasets. Overall, these findings underscore the importance of considering vehicle weight, engine specifications, acceleration, model year, and origin when designing and evaluating strategies to improve automobile fuel efficiency.\n",
    "\n",
    "\n",
    "Way Forward:\n",
    "\n",
    "Moving forward, further research could delve into exploring additional factors that influence automobile fuel efficiency, such as aerodynamics, tire characteristics, and driving conditions. Additionally, incorporating more advanced machine learning techniques like gradient boosting and neural networks could enhance predictive accuracy. Moreover, conducting a comparative analysis with alternative fuel vehicles or hybrid models could provide insights into the efficacy of different propulsion systems in achieving higher MPG ratings. Furthermore, ongoing advancements in automotive technology and data analytics offer opportunities to develop more sophisticated models for optimizing fuel efficiency and reducing environmental impact. Collaboration with automotive manufacturers and policymakers can facilitate the implementation of findings into real-world applications, fostering the development of more sustainable transportation solutions."
   ]
  },
  {
   "cell_type": "code",
   "execution_count": null,
   "id": "1daa53eb",
   "metadata": {},
   "outputs": [],
   "source": []
  }
 ],
 "metadata": {
  "kernelspec": {
   "display_name": "Python 3 (ipykernel)",
   "language": "python",
   "name": "python3"
  },
  "language_info": {
   "codemirror_mode": {
    "name": "ipython",
    "version": 3
   },
   "file_extension": ".py",
   "mimetype": "text/x-python",
   "name": "python",
   "nbconvert_exporter": "python",
   "pygments_lexer": "ipython3",
   "version": "3.9.18"
  }
 },
 "nbformat": 4,
 "nbformat_minor": 5
}
