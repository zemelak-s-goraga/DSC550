{
 "cells": [
  {
   "cell_type": "markdown",
   "id": "41d7d4aa",
   "metadata": {},
   "source": [
    "## Data Mining (DSC550-T301_2245_1)\n",
    "\n",
    "Assignement Week 1;\n",
    "Author: Zemelak Goraga;\n",
    "Date: 03/16/2024"
   ]
  },
  {
   "cell_type": "code",
   "execution_count": 1,
   "id": "1460bc4c",
   "metadata": {},
   "outputs": [],
   "source": [
    "# Step 1: Import necessary libraries\n",
    "import pandas as pd"
   ]
  },
  {
   "cell_type": "code",
   "execution_count": 4,
   "id": "1625688e",
   "metadata": {},
   "outputs": [],
   "source": [
    "# Step 2: Load the dataset into a Pandas DataFrame and save it as df\n",
    "df = pd.read_csv(\"Video_Games_Sales_as_at_22_Dec_2016.csv\")"
   ]
  },
  {
   "cell_type": "code",
   "execution_count": 5,
   "id": "16d8f905",
   "metadata": {},
   "outputs": [
    {
     "name": "stdout",
     "output_type": "stream",
     "text": [
      "First ten rows of the dataset:\n",
      "                        Name Platform  Year_of_Release         Genre  \\\n",
      "0                 Wii Sports      Wii           2006.0        Sports   \n",
      "1          Super Mario Bros.      NES           1985.0      Platform   \n",
      "2             Mario Kart Wii      Wii           2008.0        Racing   \n",
      "3          Wii Sports Resort      Wii           2009.0        Sports   \n",
      "4   Pokemon Red/Pokemon Blue       GB           1996.0  Role-Playing   \n",
      "5                     Tetris       GB           1989.0        Puzzle   \n",
      "6      New Super Mario Bros.       DS           2006.0      Platform   \n",
      "7                   Wii Play      Wii           2006.0          Misc   \n",
      "8  New Super Mario Bros. Wii      Wii           2009.0      Platform   \n",
      "9                  Duck Hunt      NES           1984.0       Shooter   \n",
      "\n",
      "  Publisher  NA_Sales  EU_Sales  JP_Sales  Other_Sales  Global_Sales  \\\n",
      "0  Nintendo     41.36     28.96      3.77         8.45         82.53   \n",
      "1  Nintendo     29.08      3.58      6.81         0.77         40.24   \n",
      "2  Nintendo     15.68     12.76      3.79         3.29         35.52   \n",
      "3  Nintendo     15.61     10.93      3.28         2.95         32.77   \n",
      "4  Nintendo     11.27      8.89     10.22         1.00         31.37   \n",
      "5  Nintendo     23.20      2.26      4.22         0.58         30.26   \n",
      "6  Nintendo     11.28      9.14      6.50         2.88         29.80   \n",
      "7  Nintendo     13.96      9.18      2.93         2.84         28.92   \n",
      "8  Nintendo     14.44      6.94      4.70         2.24         28.32   \n",
      "9  Nintendo     26.93      0.63      0.28         0.47         28.31   \n",
      "\n",
      "   Critic_Score  Critic_Count User_Score  User_Count Developer Rating  \n",
      "0          76.0          51.0          8       322.0  Nintendo      E  \n",
      "1           NaN           NaN        NaN         NaN       NaN    NaN  \n",
      "2          82.0          73.0        8.3       709.0  Nintendo      E  \n",
      "3          80.0          73.0          8       192.0  Nintendo      E  \n",
      "4           NaN           NaN        NaN         NaN       NaN    NaN  \n",
      "5           NaN           NaN        NaN         NaN       NaN    NaN  \n",
      "6          89.0          65.0        8.5       431.0  Nintendo      E  \n",
      "7          58.0          41.0        6.6       129.0  Nintendo      E  \n",
      "8          87.0          80.0        8.4       594.0  Nintendo      E  \n",
      "9           NaN           NaN        NaN         NaN       NaN    NaN  \n"
     ]
    }
   ],
   "source": [
    "# Step 3: Display the first ten rows of the df dataset\n",
    "print(\"First ten rows of the dataset:\")\n",
    "print(df.head(10))"
   ]
  },
  {
   "cell_type": "code",
   "execution_count": 6,
   "id": "80efc8b7",
   "metadata": {},
   "outputs": [
    {
     "name": "stdout",
     "output_type": "stream",
     "text": [
      "\n",
      "Columns of the dataset:\n",
      "Index(['Name', 'Platform', 'Year_of_Release', 'Genre', 'Publisher', 'NA_Sales',\n",
      "       'EU_Sales', 'JP_Sales', 'Other_Sales', 'Global_Sales', 'Critic_Score',\n",
      "       'Critic_Count', 'User_Score', 'User_Count', 'Developer', 'Rating'],\n",
      "      dtype='object')\n"
     ]
    }
   ],
   "source": [
    "# Step 4: Display the columns of the df dataset\n",
    "print(\"\\nColumns of the dataset:\")\n",
    "print(df.columns)"
   ]
  },
  {
   "cell_type": "code",
   "execution_count": 7,
   "id": "fb28b768",
   "metadata": {},
   "outputs": [
    {
     "name": "stdout",
     "output_type": "stream",
     "text": [
      "\n",
      "Dimensions of the dataset: 16719 rows x 16 columns\n"
     ]
    }
   ],
   "source": [
    "# Step 5: Find the dimensions (number of rows and columns) in the df data frame\n",
    "num_rows, num_cols = df.shape\n",
    "print(f\"\\nDimensions of the dataset: {num_rows} rows x {num_cols} columns\")"
   ]
  },
  {
   "cell_type": "code",
   "execution_count": 9,
   "id": "09c45251",
   "metadata": {},
   "outputs": [
    {
     "name": "stdout",
     "output_type": "stream",
     "text": [
      "\n",
      "Top five games by critic score:\n",
      "                          Name  Critic_Score\n",
      "51         Grand Theft Auto IV          98.0\n",
      "57         Grand Theft Auto IV          98.0\n",
      "227   Tony Hawk's Pro Skater 2          98.0\n",
      "5350               SoulCalibur          98.0\n",
      "16          Grand Theft Auto V          97.0\n"
     ]
    }
   ],
   "source": [
    "# Step 6: Find the top five games by critic score\n",
    "top_games_by_critic_score = df.nlargest(5, 'Critic_Score')[['Name', 'Critic_Score']]\n",
    "print(\"\\nTop five games by critic score:\")\n",
    "print(top_games_by_critic_score)"
   ]
  },
  {
   "cell_type": "code",
   "execution_count": 11,
   "id": "b9d28526",
   "metadata": {},
   "outputs": [
    {
     "name": "stdout",
     "output_type": "stream",
     "text": [
      "\n",
      "Number of video games in each genre:\n",
      "Action          3370\n",
      "Sports          2348\n",
      "Misc            1750\n",
      "Role-Playing    1500\n",
      "Shooter         1323\n",
      "Adventure       1303\n",
      "Racing          1249\n",
      "Platform         888\n",
      "Simulation       874\n",
      "Fighting         849\n",
      "Strategy         683\n",
      "Puzzle           580\n",
      "Name: Genre, dtype: int64\n"
     ]
    }
   ],
   "source": [
    "# Step 7: Find the number of video games in the df data frame in each genre\n",
    "genre_counts = df['Genre'].value_counts()\n",
    "print(\"\\nNumber of video games in each genre:\")\n",
    "print(genre_counts)"
   ]
  },
  {
   "cell_type": "code",
   "execution_count": 13,
   "id": "90759e96",
   "metadata": {},
   "outputs": [
    {
     "name": "stdout",
     "output_type": "stream",
     "text": [
      "\n",
      "First five games on the SNES platform:\n",
      "                                     Name Platform  Year_of_Release     Genre  \\\n",
      "18                      Super Mario World     SNES           1990.0  Platform   \n",
      "56                  Super Mario All-Stars     SNES           1993.0  Platform   \n",
      "71                    Donkey Kong Country     SNES           1994.0  Platform   \n",
      "76                       Super Mario Kart     SNES           1992.0    Racing   \n",
      "137  Street Fighter II: The World Warrior     SNES           1992.0  Fighting   \n",
      "\n",
      "    Publisher  NA_Sales  EU_Sales  JP_Sales  Other_Sales  Global_Sales  \\\n",
      "18   Nintendo     12.78      3.75      3.54         0.55         20.61   \n",
      "56   Nintendo      5.99      2.15      2.12         0.29         10.55   \n",
      "71   Nintendo      4.36      1.71      3.00         0.23          9.30   \n",
      "76   Nintendo      3.54      1.24      3.81         0.18          8.76   \n",
      "137    Capcom      2.47      0.83      2.87         0.12          6.30   \n",
      "\n",
      "     Critic_Score  Critic_Count User_Score  User_Count Developer Rating  \n",
      "18            NaN           NaN        NaN         NaN       NaN    NaN  \n",
      "56            NaN           NaN        NaN         NaN       NaN    NaN  \n",
      "71            NaN           NaN        NaN         NaN       NaN    NaN  \n",
      "76            NaN           NaN        NaN         NaN       NaN    NaN  \n",
      "137           NaN           NaN        NaN         NaN       NaN    NaN  \n"
     ]
    }
   ],
   "source": [
    "# Step 8: Find the first five games in the df data frame on the SNES platform\n",
    "snes_games = df[df['Platform'] == 'SNES'].head(5)\n",
    "print(\"\\nFirst five games on the SNES platform:\")\n",
    "print(snes_games)"
   ]
  },
  {
   "cell_type": "code",
   "execution_count": 15,
   "id": "d9a5d2ca",
   "metadata": {},
   "outputs": [
    {
     "name": "stdout",
     "output_type": "stream",
     "text": [
      "\n",
      "Five publishers with the highest total global sales:\n",
      "Publisher\n",
      "Nintendo                       1788.81\n",
      "Electronic Arts                1116.96\n",
      "Activision                      731.16\n",
      "Sony Computer Entertainment     606.48\n",
      "Ubisoft                         471.61\n",
      "Name: Global_Sales, dtype: float64\n"
     ]
    }
   ],
   "source": [
    "# Step 9: Find the five publishers with the highest total global sales\n",
    "publisher_sales = df.groupby('Publisher')['Global_Sales'].sum().nlargest(5)\n",
    "print(\"\\nFive publishers with the highest total global sales:\")\n",
    "print(publisher_sales)"
   ]
  },
  {
   "cell_type": "code",
   "execution_count": 16,
   "id": "232d9f8b",
   "metadata": {},
   "outputs": [],
   "source": [
    "# Step 10: Create a new column for the percentage of global sales from North America\n",
    "df['NA_Sales_Percentage'] = (df['NA_Sales'] / df['Global_Sales']) * 100"
   ]
  },
  {
   "cell_type": "code",
   "execution_count": 17,
   "id": "7a41d9cf",
   "metadata": {},
   "outputs": [
    {
     "name": "stdout",
     "output_type": "stream",
     "text": [
      "\n",
      "First five rows with the new column:\n",
      "                       Name Platform  Year_of_Release         Genre Publisher  \\\n",
      "0                Wii Sports      Wii           2006.0        Sports  Nintendo   \n",
      "1         Super Mario Bros.      NES           1985.0      Platform  Nintendo   \n",
      "2            Mario Kart Wii      Wii           2008.0        Racing  Nintendo   \n",
      "3         Wii Sports Resort      Wii           2009.0        Sports  Nintendo   \n",
      "4  Pokemon Red/Pokemon Blue       GB           1996.0  Role-Playing  Nintendo   \n",
      "\n",
      "   NA_Sales  EU_Sales  JP_Sales  Other_Sales  Global_Sales  Critic_Score  \\\n",
      "0     41.36     28.96      3.77         8.45         82.53          76.0   \n",
      "1     29.08      3.58      6.81         0.77         40.24           NaN   \n",
      "2     15.68     12.76      3.79         3.29         35.52          82.0   \n",
      "3     15.61     10.93      3.28         2.95         32.77          80.0   \n",
      "4     11.27      8.89     10.22         1.00         31.37           NaN   \n",
      "\n",
      "   Critic_Count User_Score  User_Count Developer Rating  NA_Sales_Percentage  \n",
      "0          51.0          8       322.0  Nintendo      E            50.115110  \n",
      "1           NaN        NaN         NaN       NaN    NaN            72.266402  \n",
      "2          73.0        8.3       709.0  Nintendo      E            44.144144  \n",
      "3          73.0          8       192.0  Nintendo      E            47.635032  \n",
      "4           NaN        NaN         NaN       NaN    NaN            35.926044  \n"
     ]
    }
   ],
   "source": [
    "# Step 11: Display the first five rows of the new DataFrame\n",
    "print(\"\\nFirst five rows with the new column:\")\n",
    "print(df.head())"
   ]
  },
  {
   "cell_type": "code",
   "execution_count": 18,
   "id": "faf8a0ca",
   "metadata": {},
   "outputs": [
    {
     "name": "stdout",
     "output_type": "stream",
     "text": [
      "\n",
      "Number of NaN entries in each column:\n",
      "Name                      2\n",
      "Platform                  0\n",
      "Year_of_Release         269\n",
      "Genre                     2\n",
      "Publisher                54\n",
      "NA_Sales                  0\n",
      "EU_Sales                  0\n",
      "JP_Sales                  0\n",
      "Other_Sales               0\n",
      "Global_Sales              0\n",
      "Critic_Score           8582\n",
      "Critic_Count           8582\n",
      "User_Score             6704\n",
      "User_Count             9129\n",
      "Developer              6623\n",
      "Rating                 6769\n",
      "NA_Sales_Percentage       0\n",
      "dtype: int64\n"
     ]
    }
   ],
   "source": [
    "# Step 12: Find the number of NaN entries in each column\n",
    "nan_counts = df.isna().sum()\n",
    "print(\"\\nNumber of NaN entries in each column:\")\n",
    "print(nan_counts)"
   ]
  },
  {
   "cell_type": "code",
   "execution_count": 19,
   "id": "d93dd7bc",
   "metadata": {},
   "outputs": [],
   "source": [
    "# Step 13: Replace non-numerical user score entries with NaN\n",
    "df['User_Score'] = pd.to_numeric(df['User_Score'], errors='coerce')"
   ]
  },
  {
   "cell_type": "code",
   "execution_count": 21,
   "id": "bad0841d",
   "metadata": {},
   "outputs": [
    {
     "data": {
      "text/plain": [
       "7.5"
      ]
     },
     "execution_count": 21,
     "metadata": {},
     "output_type": "execute_result"
    }
   ],
   "source": [
    "# Step 14: Calculate the median user score\n",
    "median_user_score = df['User_Score'].median()\n",
    "median_user_score"
   ]
  },
  {
   "cell_type": "code",
   "execution_count": 22,
   "id": "59692445",
   "metadata": {},
   "outputs": [],
   "source": [
    "# Step 15: Replace NaN entries in the user score column with the median value\n",
    "df['User_Score'].fillna(median_user_score, inplace=True)"
   ]
  },
  {
   "cell_type": "code",
   "execution_count": 24,
   "id": "ff6e0d41",
   "metadata": {},
   "outputs": [
    {
     "name": "stdout",
     "output_type": "stream",
     "text": [
      "\n",
      "Updated DataFrame with NaN replaced:\n",
      "                                Name Platform  Year_of_Release         Genre  \\\n",
      "0                         Wii Sports      Wii           2006.0        Sports   \n",
      "1                  Super Mario Bros.      NES           1985.0      Platform   \n",
      "2                     Mario Kart Wii      Wii           2008.0        Racing   \n",
      "3                  Wii Sports Resort      Wii           2009.0        Sports   \n",
      "4           Pokemon Red/Pokemon Blue       GB           1996.0  Role-Playing   \n",
      "...                              ...      ...              ...           ...   \n",
      "16714  Samurai Warriors: Sanada Maru      PS3           2016.0        Action   \n",
      "16715               LMA Manager 2007     X360           2006.0        Sports   \n",
      "16716        Haitaka no Psychedelica      PSV           2016.0     Adventure   \n",
      "16717               Spirits & Spells      GBA           2003.0      Platform   \n",
      "16718            Winning Post 8 2016      PSV           2016.0    Simulation   \n",
      "\n",
      "          Publisher  NA_Sales  EU_Sales  JP_Sales  Other_Sales  Global_Sales  \\\n",
      "0          Nintendo     41.36     28.96      3.77         8.45         82.53   \n",
      "1          Nintendo     29.08      3.58      6.81         0.77         40.24   \n",
      "2          Nintendo     15.68     12.76      3.79         3.29         35.52   \n",
      "3          Nintendo     15.61     10.93      3.28         2.95         32.77   \n",
      "4          Nintendo     11.27      8.89     10.22         1.00         31.37   \n",
      "...             ...       ...       ...       ...          ...           ...   \n",
      "16714    Tecmo Koei      0.00      0.00      0.01         0.00          0.01   \n",
      "16715   Codemasters      0.00      0.01      0.00         0.00          0.01   \n",
      "16716  Idea Factory      0.00      0.00      0.01         0.00          0.01   \n",
      "16717       Wanadoo      0.01      0.00      0.00         0.00          0.01   \n",
      "16718    Tecmo Koei      0.00      0.00      0.01         0.00          0.01   \n",
      "\n",
      "       Critic_Score  Critic_Count  User_Score  User_Count Developer Rating  \\\n",
      "0              76.0          51.0         8.0       322.0  Nintendo      E   \n",
      "1               NaN           NaN         7.5         NaN       NaN    NaN   \n",
      "2              82.0          73.0         8.3       709.0  Nintendo      E   \n",
      "3              80.0          73.0         8.0       192.0  Nintendo      E   \n",
      "4               NaN           NaN         7.5         NaN       NaN    NaN   \n",
      "...             ...           ...         ...         ...       ...    ...   \n",
      "16714           NaN           NaN         7.5         NaN       NaN    NaN   \n",
      "16715           NaN           NaN         7.5         NaN       NaN    NaN   \n",
      "16716           NaN           NaN         7.5         NaN       NaN    NaN   \n",
      "16717           NaN           NaN         7.5         NaN       NaN    NaN   \n",
      "16718           NaN           NaN         7.5         NaN       NaN    NaN   \n",
      "\n",
      "       NA_Sales_Percentage  \n",
      "0                50.115110  \n",
      "1                72.266402  \n",
      "2                44.144144  \n",
      "3                47.635032  \n",
      "4                35.926044  \n",
      "...                    ...  \n",
      "16714             0.000000  \n",
      "16715             0.000000  \n",
      "16716             0.000000  \n",
      "16717           100.000000  \n",
      "16718             0.000000  \n",
      "\n",
      "[16719 rows x 17 columns]\n"
     ]
    }
   ],
   "source": [
    "# Step 16: Display the updated DataFrame\n",
    "print(\"\\nUpdated DataFrame with NaN replaced:\")\n",
    "print(df)"
   ]
  },
  {
   "cell_type": "code",
   "execution_count": null,
   "id": "0bc99560",
   "metadata": {},
   "outputs": [],
   "source": []
  },
  {
   "cell_type": "markdown",
   "id": "9f40a190",
   "metadata": {},
   "source": [
    "Title: Comprehensive Analysis of Video Game Sales with Ratings Dataset\n",
    "\n",
    "Summary:\n",
    "This report provides a comprehensive analysis of the Video Game Sales with Ratings dataset, focusing on various aspects such as top games by critic score, genre distribution, publisher sales, and user score data wrangling. Through thorough examination and analysis, valuable insights into the video game industry are derived, aiding stakeholders in making informed decisions.\n",
    "\n",
    "Introduction:\n",
    "The video game industry has witnessed exponential growth over the years, with the rise of various platforms and genres catering to diverse audiences. Understanding the dynamics of this industry is crucial for stakeholders, including developers, publishers, and investors. The Video Game Sales with Ratings dataset offers a wealth of information that can be leveraged to gain insights into consumer preferences, market trends, and more.\n",
    "\n",
    "Statement of the Problem:\n",
    "The dataset presents several challenges and opportunities for analysis. Key issues include missing data entries, inconsistent formats, and the need to derive meaningful insights from the available information. The goal is to extract actionable insights that can inform business strategies and decision-making processes.\n",
    "\n",
    "Methodology:\n",
    "\n",
    "Data Acquisition: The dataset was obtained from Kaggle using the Kaggle API.\n",
    "Data Preprocessing: Data cleaning and wrangling techniques were applied to handle missing values, format inconsistencies, and prepare the data for analysis.\n",
    "Exploratory Data Analysis (EDA): Various statistical and visual methods were employed to explore the dataset and uncover patterns, trends, and relationships.\n",
    "Data Analysis: Quantitative analysis techniques were used to derive insights into key metrics such as top games, genre distribution, publisher sales, and user scores.\n",
    "\n",
    "Dimensions of the dataset: 16719 rows x 16 columns, representing the number of observations (video games) and studied variables about the games, respectively. \n",
    "\n",
    "\n",
    "Results:\n",
    "\n",
    "Top five games by critic score:\n",
    "\n",
    "Grand Theft Auto IV - 98.0;\n",
    "Grand Theft Auto IV - 98.0;\n",
    "Tony Hawk's Pro Skater 2 - 98.0;\n",
    "SoulCalibur - 98.0;\n",
    "Grand Theft Auto V - 97.0\n",
    "\n",
    "\n",
    "Genre distribution:\n",
    "\n",
    "Action: 3370;\n",
    "Sports: 2348;\n",
    "Misc: 1750;\n",
    "Role-Playing: 1500;\n",
    "Shooter: 1323;\n",
    "Adventure: 1303;\n",
    "Racing: 1249;\n",
    "Platform: 888;\n",
    "Simulation: 874;\n",
    "Fighting: 849;\n",
    "Strategy: 683;\n",
    "Puzzle: 580;\n",
    "\n",
    "Publisher sales:\n",
    "\n",
    "Nintendo: 1788.81;\n",
    "Electronic Arts: 1116.96;\n",
    "Activision: 731.16;\n",
    "Sony Computer Entertainment: 606.48;\n",
    "Ubisoft: 471.61\n",
    "\n",
    "\n",
    "User score data wrangling:\n",
    "\n",
    "Median user score: 7.5\n",
    "NaN entries replaced\n",
    "\n",
    "\n",
    "Discussion of Results:\n",
    "\n",
    "Top Games: The analysis reveals that Grand Theft Auto IV, Tony Hawk's Pro Skater 2, and SoulCalibur are among the top-rated games by critics, suggesting a strong market demand for immersive gaming experiences. This indicates potential opportunities for game developers and publishers to focus on creating high-quality titles that resonate with players.\n",
    "\n",
    "Genre Distribution: Action games dominate the market, followed by sports and miscellaneous genres. This highlights the diverse preferences of gamers and underscores the importance of catering to various interests to maximize market reach and revenue potential. Developers may benefit from targeting specific genres based on consumer demand and emerging trends.\n",
    "\n",
    "Publisher Sales: Nintendo emerges as the top publisher with the highest total global sales, emphasizing the significance of brand reputation and quality content in driving sales. Other leading publishers such as Electronic Arts and Activision also play a significant role in shaping the gaming landscape, indicating fierce competition within the industry.\n",
    "\n",
    "User Score Data: The median user score of 7.5 reflects a generally positive reception among gamers, although challenges such as missing data entries necessitate robust data cleaning and preprocessing techniques. Addressing these issues is essential to ensure the accuracy and reliability of user score data, enabling stakeholders to make informed decisions based on consumer feedback.\n",
    "\n",
    "Conclusions:\n",
    "The analysis of the Video Game Sales with Ratings dataset provides valuable insights into the video game industry, offering stakeholders a deeper understanding of market dynamics and consumer behavior. By leveraging these insights, stakeholders can make informed decisions to enhance product development, marketing strategies, and overall business performance.\n",
    "\n",
    "Recommendations:\n",
    "\n",
    "Data Quality Assurance: Implement robust data cleaning and validation processes to ensure data accuracy and consistency.\n",
    "Market Segmentation: Utilize genre preferences and user demographics to tailor marketing campaigns and product offerings.\n",
    "Investment Strategies: Consider partnering with top publishers or investing in genres with high market demand and potential for growth.\n",
    "Way Forward:\n",
    "Further research could focus on longitudinal analysis to track trends over time, sentiment analysis of user reviews to gauge consumer sentiment, and predictive modeling to forecast future sales trends and game popularity.\n"
   ]
  },
  {
   "cell_type": "code",
   "execution_count": null,
   "id": "85de7c56",
   "metadata": {},
   "outputs": [],
   "source": []
  }
 ],
 "metadata": {
  "kernelspec": {
   "display_name": "Python 3 (ipykernel)",
   "language": "python",
   "name": "python3"
  },
  "language_info": {
   "codemirror_mode": {
    "name": "ipython",
    "version": 3
   },
   "file_extension": ".py",
   "mimetype": "text/x-python",
   "name": "python",
   "nbconvert_exporter": "python",
   "pygments_lexer": "ipython3",
   "version": "3.9.18"
  }
 },
 "nbformat": 4,
 "nbformat_minor": 5
}
